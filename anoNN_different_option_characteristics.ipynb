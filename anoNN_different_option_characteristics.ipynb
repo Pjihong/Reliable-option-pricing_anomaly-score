{
 "cells": [
  {
   "cell_type": "code",
   "execution_count": 1,
   "id": "914db039-70a5-40a5-888d-ab7bd0eb3dbf",
   "metadata": {},
   "outputs": [
    {
     "name": "stdout",
     "output_type": "stream",
     "text": [
      "/opt/tljh/user/bin/python\n"
     ]
    }
   ],
   "source": [
    "import sys\n",
    "print(sys.executable)"
   ]
  },
  {
   "cell_type": "code",
   "execution_count": 2,
   "id": "c8271673-4a17-43ad-941f-69e570b382bb",
   "metadata": {
    "tags": []
   },
   "outputs": [],
   "source": [
    "import numpy as np\n",
    "import pandas as pd\n",
    "\n",
    "import matplotlib.pyplot as plt\n",
    "import seaborn as sns\n",
    "from scipy import stats\n",
    "import datetime\n",
    "\n",
    "from tqdm import tqdm\n",
    "\n",
    "from sklearn.model_selection import train_test_split\n",
    "from sklearn.preprocessing import StandardScaler, MinMaxScaler\n",
    "\n",
    "import torch\n",
    "import torch.nn as nn\n",
    "import torch.optim as optim\n",
    "import torch.backends.cudnn as cudnn\n",
    "\n",
    "from torch.utils.data import TensorDataset, DataLoader\n",
    "import math\n",
    "import torch.nn.functional as F\n",
    "\n",
    "from ano_nn_analysis import *\n",
    "\n",
    "import warnings\n",
    "warnings.filterwarnings(action='ignore')"
   ]
  },
  {
   "cell_type": "markdown",
   "id": "c0f91152-a373-4b37-85f5-9c4ec0ee30c2",
   "metadata": {},
   "source": [
    "## data load"
   ]
  },
  {
   "cell_type": "code",
   "execution_count": 3,
   "id": "c753e5c0-1103-4c13-85bc-d59f40529e15",
   "metadata": {},
   "outputs": [
    {
     "data": {
      "text/html": [
       "<div>\n",
       "<style scoped>\n",
       "    .dataframe tbody tr th:only-of-type {\n",
       "        vertical-align: middle;\n",
       "    }\n",
       "\n",
       "    .dataframe tbody tr th {\n",
       "        vertical-align: top;\n",
       "    }\n",
       "\n",
       "    .dataframe thead th {\n",
       "        text-align: right;\n",
       "    }\n",
       "</style>\n",
       "<table border=\"1\" class=\"dataframe\">\n",
       "  <thead>\n",
       "    <tr style=\"text-align: right;\">\n",
       "      <th></th>\n",
       "      <th>today</th>\n",
       "      <th>종가</th>\n",
       "      <th>대비</th>\n",
       "      <th>시가</th>\n",
       "      <th>고가</th>\n",
       "      <th>저가</th>\n",
       "      <th>내재변동성</th>\n",
       "      <th>익일기준가</th>\n",
       "      <th>거래량</th>\n",
       "      <th>거래대금</th>\n",
       "      <th>미결제약정</th>\n",
       "      <th>이름</th>\n",
       "      <th>분류</th>\n",
       "      <th>만기월</th>\n",
       "      <th>행사가</th>\n",
       "      <th>만기일</th>\n",
       "      <th>잔존만기</th>\n",
       "      <th>rate</th>\n",
       "      <th>kvix</th>\n",
       "      <th>주식가격</th>\n",
       "    </tr>\n",
       "  </thead>\n",
       "  <tbody>\n",
       "    <tr>\n",
       "      <th>0</th>\n",
       "      <td>2019-01-02</td>\n",
       "      <td>0.91</td>\n",
       "      <td>-0.38</td>\n",
       "      <td>0.92</td>\n",
       "      <td>0.92</td>\n",
       "      <td>0.91</td>\n",
       "      <td>15.7</td>\n",
       "      <td>0.91</td>\n",
       "      <td>3</td>\n",
       "      <td>1</td>\n",
       "      <td>38</td>\n",
       "      <td>코스피200 C 201906 302.5</td>\n",
       "      <td>1</td>\n",
       "      <td>201906</td>\n",
       "      <td>302.5</td>\n",
       "      <td>2019-06-13</td>\n",
       "      <td>0.464286</td>\n",
       "      <td>1.964</td>\n",
       "      <td>19.74</td>\n",
       "      <td>258.23</td>\n",
       "    </tr>\n",
       "    <tr>\n",
       "      <th>1</th>\n",
       "      <td>2019-01-02</td>\n",
       "      <td>0.01</td>\n",
       "      <td>0</td>\n",
       "      <td>0.01</td>\n",
       "      <td>0.01</td>\n",
       "      <td>0.01</td>\n",
       "      <td>19.1</td>\n",
       "      <td>0.01</td>\n",
       "      <td>1</td>\n",
       "      <td>0</td>\n",
       "      <td>1090</td>\n",
       "      <td>코스피200 C 201902 312.5</td>\n",
       "      <td>1</td>\n",
       "      <td>201902</td>\n",
       "      <td>312.5</td>\n",
       "      <td>2019-02-14</td>\n",
       "      <td>0.126984</td>\n",
       "      <td>1.964</td>\n",
       "      <td>19.74</td>\n",
       "      <td>258.23</td>\n",
       "    </tr>\n",
       "    <tr>\n",
       "      <th>2</th>\n",
       "      <td>2019-01-02</td>\n",
       "      <td>0.02</td>\n",
       "      <td>0</td>\n",
       "      <td>0.03</td>\n",
       "      <td>0.03</td>\n",
       "      <td>0.02</td>\n",
       "      <td>17.7</td>\n",
       "      <td>0.02</td>\n",
       "      <td>7</td>\n",
       "      <td>0</td>\n",
       "      <td>549</td>\n",
       "      <td>코스피200 C 201903 322.5</td>\n",
       "      <td>1</td>\n",
       "      <td>201903</td>\n",
       "      <td>322.5</td>\n",
       "      <td>2019-03-14</td>\n",
       "      <td>0.206349</td>\n",
       "      <td>1.964</td>\n",
       "      <td>19.74</td>\n",
       "      <td>258.23</td>\n",
       "    </tr>\n",
       "    <tr>\n",
       "      <th>3</th>\n",
       "      <td>2019-01-02</td>\n",
       "      <td>0.68</td>\n",
       "      <td>-0.15</td>\n",
       "      <td>0.6</td>\n",
       "      <td>0.68</td>\n",
       "      <td>0.6</td>\n",
       "      <td>15.8</td>\n",
       "      <td>0.68</td>\n",
       "      <td>3</td>\n",
       "      <td>0</td>\n",
       "      <td>3</td>\n",
       "      <td>코스피200 C 201904 292.5</td>\n",
       "      <td>1</td>\n",
       "      <td>201904</td>\n",
       "      <td>292.5</td>\n",
       "      <td>2019-04-11</td>\n",
       "      <td>0.285714</td>\n",
       "      <td>1.964</td>\n",
       "      <td>19.74</td>\n",
       "      <td>258.23</td>\n",
       "    </tr>\n",
       "    <tr>\n",
       "      <th>4</th>\n",
       "      <td>2019-01-02</td>\n",
       "      <td>0.02</td>\n",
       "      <td>-0.01</td>\n",
       "      <td>0.03</td>\n",
       "      <td>0.03</td>\n",
       "      <td>0.02</td>\n",
       "      <td>16.3</td>\n",
       "      <td>0.02</td>\n",
       "      <td>924</td>\n",
       "      <td>5</td>\n",
       "      <td>2273</td>\n",
       "      <td>코스피200 C 201902 300.0</td>\n",
       "      <td>1</td>\n",
       "      <td>201902</td>\n",
       "      <td>300.0</td>\n",
       "      <td>2019-02-14</td>\n",
       "      <td>0.126984</td>\n",
       "      <td>1.964</td>\n",
       "      <td>19.74</td>\n",
       "      <td>258.23</td>\n",
       "    </tr>\n",
       "    <tr>\n",
       "      <th>5</th>\n",
       "      <td>2019-01-02</td>\n",
       "      <td>7.6</td>\n",
       "      <td>-0.85</td>\n",
       "      <td>7.6</td>\n",
       "      <td>7.6</td>\n",
       "      <td>7.6</td>\n",
       "      <td>17.5</td>\n",
       "      <td>7.60</td>\n",
       "      <td>9</td>\n",
       "      <td>17</td>\n",
       "      <td>4171</td>\n",
       "      <td>코스피200 C 201903 260.0</td>\n",
       "      <td>1</td>\n",
       "      <td>201903</td>\n",
       "      <td>260.0</td>\n",
       "      <td>2019-03-14</td>\n",
       "      <td>0.206349</td>\n",
       "      <td>1.964</td>\n",
       "      <td>19.74</td>\n",
       "      <td>258.23</td>\n",
       "    </tr>\n",
       "    <tr>\n",
       "      <th>6</th>\n",
       "      <td>2019-01-02</td>\n",
       "      <td>0.3</td>\n",
       "      <td>-0.28</td>\n",
       "      <td>0.72</td>\n",
       "      <td>0.72</td>\n",
       "      <td>0.28</td>\n",
       "      <td>15.3</td>\n",
       "      <td>0.30</td>\n",
       "      <td>3635</td>\n",
       "      <td>367</td>\n",
       "      <td>3509</td>\n",
       "      <td>코스피200 C 201902 282.5</td>\n",
       "      <td>1</td>\n",
       "      <td>201902</td>\n",
       "      <td>282.5</td>\n",
       "      <td>2019-02-14</td>\n",
       "      <td>0.126984</td>\n",
       "      <td>1.964</td>\n",
       "      <td>19.74</td>\n",
       "      <td>258.23</td>\n",
       "    </tr>\n",
       "    <tr>\n",
       "      <th>7</th>\n",
       "      <td>2019-01-02</td>\n",
       "      <td>1.05</td>\n",
       "      <td>-0.38</td>\n",
       "      <td>1.48</td>\n",
       "      <td>1.48</td>\n",
       "      <td>1.05</td>\n",
       "      <td>15.6</td>\n",
       "      <td>1.05</td>\n",
       "      <td>286</td>\n",
       "      <td>84</td>\n",
       "      <td>10239</td>\n",
       "      <td>코스피200 C 201906 300.0</td>\n",
       "      <td>1</td>\n",
       "      <td>201906</td>\n",
       "      <td>300.0</td>\n",
       "      <td>2019-06-13</td>\n",
       "      <td>0.464286</td>\n",
       "      <td>1.964</td>\n",
       "      <td>19.74</td>\n",
       "      <td>258.23</td>\n",
       "    </tr>\n",
       "    <tr>\n",
       "      <th>8</th>\n",
       "      <td>2019-01-02</td>\n",
       "      <td>1.93</td>\n",
       "      <td>-0.13</td>\n",
       "      <td>1.99</td>\n",
       "      <td>2.01</td>\n",
       "      <td>1.93</td>\n",
       "      <td>15.7</td>\n",
       "      <td>1.93</td>\n",
       "      <td>4</td>\n",
       "      <td>2</td>\n",
       "      <td>47</td>\n",
       "      <td>코스피200 C 201909 305.0</td>\n",
       "      <td>1</td>\n",
       "      <td>201909</td>\n",
       "      <td>305.0</td>\n",
       "      <td>2019-09-12</td>\n",
       "      <td>0.722222</td>\n",
       "      <td>1.964</td>\n",
       "      <td>19.74</td>\n",
       "      <td>258.23</td>\n",
       "    </tr>\n",
       "    <tr>\n",
       "      <th>9</th>\n",
       "      <td>2019-01-02</td>\n",
       "      <td>7.8</td>\n",
       "      <td>0.59</td>\n",
       "      <td>6.93</td>\n",
       "      <td>7.8</td>\n",
       "      <td>6.93</td>\n",
       "      <td>17.8</td>\n",
       "      <td>7.80</td>\n",
       "      <td>1307</td>\n",
       "      <td>2445</td>\n",
       "      <td>14973</td>\n",
       "      <td>코스피200 P 201906 250.0</td>\n",
       "      <td>0</td>\n",
       "      <td>201906</td>\n",
       "      <td>250.0</td>\n",
       "      <td>2019-06-13</td>\n",
       "      <td>0.464286</td>\n",
       "      <td>1.964</td>\n",
       "      <td>19.74</td>\n",
       "      <td>258.23</td>\n",
       "    </tr>\n",
       "  </tbody>\n",
       "</table>\n",
       "</div>"
      ],
      "text/plain": [
       "       today    종가    대비    시가    고가    저가  내재변동성  익일기준가   거래량  거래대금  미결제약정  \\\n",
       "0 2019-01-02  0.91 -0.38  0.92  0.92  0.91   15.7   0.91     3     1     38   \n",
       "1 2019-01-02  0.01     0  0.01  0.01  0.01   19.1   0.01     1     0   1090   \n",
       "2 2019-01-02  0.02     0  0.03  0.03  0.02   17.7   0.02     7     0    549   \n",
       "3 2019-01-02  0.68 -0.15   0.6  0.68   0.6   15.8   0.68     3     0      3   \n",
       "4 2019-01-02  0.02 -0.01  0.03  0.03  0.02   16.3   0.02   924     5   2273   \n",
       "5 2019-01-02   7.6 -0.85   7.6   7.6   7.6   17.5   7.60     9    17   4171   \n",
       "6 2019-01-02   0.3 -0.28  0.72  0.72  0.28   15.3   0.30  3635   367   3509   \n",
       "7 2019-01-02  1.05 -0.38  1.48  1.48  1.05   15.6   1.05   286    84  10239   \n",
       "8 2019-01-02  1.93 -0.13  1.99  2.01  1.93   15.7   1.93     4     2     47   \n",
       "9 2019-01-02   7.8  0.59  6.93   7.8  6.93   17.8   7.80  1307  2445  14973   \n",
       "\n",
       "                      이름  분류     만기월    행사가        만기일      잔존만기   rate  \\\n",
       "0  코스피200 C 201906 302.5   1  201906  302.5 2019-06-13  0.464286  1.964   \n",
       "1  코스피200 C 201902 312.5   1  201902  312.5 2019-02-14  0.126984  1.964   \n",
       "2  코스피200 C 201903 322.5   1  201903  322.5 2019-03-14  0.206349  1.964   \n",
       "3  코스피200 C 201904 292.5   1  201904  292.5 2019-04-11  0.285714  1.964   \n",
       "4  코스피200 C 201902 300.0   1  201902  300.0 2019-02-14  0.126984  1.964   \n",
       "5  코스피200 C 201903 260.0   1  201903  260.0 2019-03-14  0.206349  1.964   \n",
       "6  코스피200 C 201902 282.5   1  201902  282.5 2019-02-14  0.126984  1.964   \n",
       "7  코스피200 C 201906 300.0   1  201906  300.0 2019-06-13  0.464286  1.964   \n",
       "8  코스피200 C 201909 305.0   1  201909  305.0 2019-09-12  0.722222  1.964   \n",
       "9  코스피200 P 201906 250.0   0  201906  250.0 2019-06-13  0.464286  1.964   \n",
       "\n",
       "    kvix    주식가격  \n",
       "0  19.74  258.23  \n",
       "1  19.74  258.23  \n",
       "2  19.74  258.23  \n",
       "3  19.74  258.23  \n",
       "4  19.74  258.23  \n",
       "5  19.74  258.23  \n",
       "6  19.74  258.23  \n",
       "7  19.74  258.23  \n",
       "8  19.74  258.23  \n",
       "9  19.74  258.23  "
      ]
     },
     "execution_count": 3,
     "metadata": {},
     "output_type": "execute_result"
    }
   ],
   "source": [
    "data = pd.read_pickle('krx_data_5Y.pkl')\n",
    "data.head(10)"
   ]
  },
  {
   "cell_type": "code",
   "execution_count": 4,
   "id": "af10dd8a-b8cd-409a-aaaa-39ff3f18d61a",
   "metadata": {},
   "outputs": [],
   "source": [
    "data['종가'] = pd.to_numeric(data['종가'], errors='coerce')\n",
    "data['주식가격'] = pd.to_numeric(data['주식가격'], errors='coerce')\n",
    "data['행사가'] = pd.to_numeric(data['행사가'], errors='coerce')\n",
    "data['잔존만기'] = pd.to_numeric(data['잔존만기'], errors='coerce')\n",
    "data['rate'] = pd.to_numeric(data['rate'], errors='coerce')\n",
    "\n",
    "# simple moneyness 계산\n",
    "data['simple moneyness'] = data['주식가격'] / data['행사가']\n",
    "\n",
    "# S - Ke^(-rT) 계산\n",
    "data['parity'] = data['주식가격'] - (data['행사가'] * np.exp(-(data['rate'] / 100) * data['잔존만기']))\n",
    "\n",
    "# 풋옵션 가격\n",
    "data['put_price'] = data.apply(lambda row: row['종가'] - row['parity'] if row['분류'] == 1 else row['종가'], axis=1)\n",
    "\n",
    "# 콜옵션 가격\n",
    "data['call_price'] = data.apply(lambda row: row['종가'] + row['parity'] if row['분류'] == 0 else row['종가'], axis=1)\n",
    "\n",
    "# 풋옵션 가격이 0보다 작은 경우 0으로 설정\n",
    "data['put_price'] = np.where((data['분류'] == 1) & (data['put_price'] < 0), 0, data['put_price'])\n",
    "\n",
    "# 최종 종가 설정\n",
    "data['종가'] = data['put_price']\n",
    "\n",
    "# 필요한 컬럼만 선택\n",
    "data = data[['today', '분류', '거래량', '미결제약정', 'simple moneyness', '잔존만기', 'rate', 'kvix', '종가']]\n",
    "\n",
    "# 인덱스 설정 및 결측값 제거\n",
    "data.set_index('today', inplace=True)\n",
    "data.dropna(how='any', inplace=True)"
   ]
  },
  {
   "cell_type": "code",
   "execution_count": 5,
   "id": "85992a6a-8d68-4e49-9238-1f4266f995da",
   "metadata": {},
   "outputs": [
    {
     "data": {
      "text/html": [
       "<div>\n",
       "<style scoped>\n",
       "    .dataframe tbody tr th:only-of-type {\n",
       "        vertical-align: middle;\n",
       "    }\n",
       "\n",
       "    .dataframe tbody tr th {\n",
       "        vertical-align: top;\n",
       "    }\n",
       "\n",
       "    .dataframe thead th {\n",
       "        text-align: right;\n",
       "    }\n",
       "</style>\n",
       "<table border=\"1\" class=\"dataframe\">\n",
       "  <thead>\n",
       "    <tr style=\"text-align: right;\">\n",
       "      <th></th>\n",
       "      <th>분류</th>\n",
       "      <th>거래량</th>\n",
       "      <th>미결제약정</th>\n",
       "      <th>simple moneyness</th>\n",
       "      <th>잔존만기</th>\n",
       "      <th>rate</th>\n",
       "      <th>kvix</th>\n",
       "      <th>종가</th>\n",
       "    </tr>\n",
       "  </thead>\n",
       "  <tbody>\n",
       "    <tr>\n",
       "      <th>count</th>\n",
       "      <td>346675.000000</td>\n",
       "      <td>346675.000000</td>\n",
       "      <td>346675.000000</td>\n",
       "      <td>346675.000000</td>\n",
       "      <td>346675.000000</td>\n",
       "      <td>346675.000000</td>\n",
       "      <td>346675.000000</td>\n",
       "      <td>346675.000000</td>\n",
       "    </tr>\n",
       "    <tr>\n",
       "      <th>mean</th>\n",
       "      <td>0.432503</td>\n",
       "      <td>3998.091460</td>\n",
       "      <td>4377.711710</td>\n",
       "      <td>1.100580</td>\n",
       "      <td>0.238392</td>\n",
       "      <td>1.753715</td>\n",
       "      <td>19.560488</td>\n",
       "      <td>20.532218</td>\n",
       "    </tr>\n",
       "    <tr>\n",
       "      <th>std</th>\n",
       "      <td>0.495424</td>\n",
       "      <td>16321.830999</td>\n",
       "      <td>7701.255742</td>\n",
       "      <td>0.286341</td>\n",
       "      <td>0.203567</td>\n",
       "      <td>1.117591</td>\n",
       "      <td>6.887440</td>\n",
       "      <td>31.532767</td>\n",
       "    </tr>\n",
       "    <tr>\n",
       "      <th>min</th>\n",
       "      <td>0.000000</td>\n",
       "      <td>1.000000</td>\n",
       "      <td>0.000000</td>\n",
       "      <td>0.498200</td>\n",
       "      <td>0.023810</td>\n",
       "      <td>0.307000</td>\n",
       "      <td>11.730000</td>\n",
       "      <td>0.000000</td>\n",
       "    </tr>\n",
       "    <tr>\n",
       "      <th>25%</th>\n",
       "      <td>0.000000</td>\n",
       "      <td>5.000000</td>\n",
       "      <td>200.000000</td>\n",
       "      <td>0.914382</td>\n",
       "      <td>0.099206</td>\n",
       "      <td>0.686000</td>\n",
       "      <td>15.020000</td>\n",
       "      <td>0.477391</td>\n",
       "    </tr>\n",
       "    <tr>\n",
       "      <th>50%</th>\n",
       "      <td>0.000000</td>\n",
       "      <td>42.000000</td>\n",
       "      <td>1176.000000</td>\n",
       "      <td>1.033875</td>\n",
       "      <td>0.170635</td>\n",
       "      <td>1.484000</td>\n",
       "      <td>17.750000</td>\n",
       "      <td>4.650000</td>\n",
       "    </tr>\n",
       "    <tr>\n",
       "      <th>75%</th>\n",
       "      <td>1.000000</td>\n",
       "      <td>549.000000</td>\n",
       "      <td>5374.000000</td>\n",
       "      <td>1.219016</td>\n",
       "      <td>0.293651</td>\n",
       "      <td>3.000000</td>\n",
       "      <td>21.970000</td>\n",
       "      <td>30.575005</td>\n",
       "    </tr>\n",
       "    <tr>\n",
       "      <th>max</th>\n",
       "      <td>1.000000</td>\n",
       "      <td>480413.000000</td>\n",
       "      <td>159624.000000</td>\n",
       "      <td>3.145714</td>\n",
       "      <td>1.075397</td>\n",
       "      <td>4.019000</td>\n",
       "      <td>69.240000</td>\n",
       "      <td>237.150000</td>\n",
       "    </tr>\n",
       "  </tbody>\n",
       "</table>\n",
       "</div>"
      ],
      "text/plain": [
       "                  분류            거래량          미결제약정  simple moneyness  \\\n",
       "count  346675.000000  346675.000000  346675.000000     346675.000000   \n",
       "mean        0.432503    3998.091460    4377.711710          1.100580   \n",
       "std         0.495424   16321.830999    7701.255742          0.286341   \n",
       "min         0.000000       1.000000       0.000000          0.498200   \n",
       "25%         0.000000       5.000000     200.000000          0.914382   \n",
       "50%         0.000000      42.000000    1176.000000          1.033875   \n",
       "75%         1.000000     549.000000    5374.000000          1.219016   \n",
       "max         1.000000  480413.000000  159624.000000          3.145714   \n",
       "\n",
       "                잔존만기           rate           kvix             종가  \n",
       "count  346675.000000  346675.000000  346675.000000  346675.000000  \n",
       "mean        0.238392       1.753715      19.560488      20.532218  \n",
       "std         0.203567       1.117591       6.887440      31.532767  \n",
       "min         0.023810       0.307000      11.730000       0.000000  \n",
       "25%         0.099206       0.686000      15.020000       0.477391  \n",
       "50%         0.170635       1.484000      17.750000       4.650000  \n",
       "75%         0.293651       3.000000      21.970000      30.575005  \n",
       "max         1.075397       4.019000      69.240000     237.150000  "
      ]
     },
     "execution_count": 5,
     "metadata": {},
     "output_type": "execute_result"
    }
   ],
   "source": [
    "data.describe()"
   ]
  },
  {
   "cell_type": "markdown",
   "id": "8f993f75-6780-4a6d-a840-b9438bd6904a",
   "metadata": {},
   "source": [
    "## seed ##"
   ]
  },
  {
   "cell_type": "code",
   "execution_count": 6,
   "id": "19fc2112-0920-4ab5-a218-ceb16650d7df",
   "metadata": {
    "tags": []
   },
   "outputs": [],
   "source": [
    "import os\n",
    "GPU_NUM = 6 # 원하는 GPU 번호 입력\n",
    "rank = torch.device(f'cuda:{GPU_NUM}' if torch.cuda.is_available() else 'cpu')\n",
    "\n",
    "os.environ[\"CUDA_VISIBLE_DEVICES\"] = str(GPU_NUM)\n",
    "\n",
    "dtype = torch.double"
   ]
  },
  {
   "cell_type": "markdown",
   "id": "b91b2675-38d7-47db-86ad-70b21b0eeb46",
   "metadata": {
    "tags": []
   },
   "source": [
    "# IsoForest"
   ]
  },
  {
   "cell_type": "code",
   "execution_count": 7,
   "id": "b3526274-ce96-4bec-85fd-5afece5aed2e",
   "metadata": {
    "scrolled": true,
    "tags": []
   },
   "outputs": [
    {
     "name": "stderr",
     "output_type": "stream",
     "text": [
      "Traceback (most recent call last):\n",
      "  File \"/home/jupyter-jihong0429/.local/lib/python3.10/site-packages/pycaret/internal/logging.py\", line 146, in create_logger\n",
      "    ch = logging.FileHandler(path)\n",
      "  File \"/opt/tljh/user/lib/python3.10/logging/__init__.py\", line 1169, in __init__\n",
      "    StreamHandler.__init__(self, self._open())\n",
      "  File \"/opt/tljh/user/lib/python3.10/logging/__init__.py\", line 1201, in _open\n",
      "    return open_func(self.baseFilename, self.mode,\n",
      "PermissionError: [Errno 13] Permission denied: '/home/jupyter-jihong0429/anomal/anomaly_score/logs.log'\n"
     ]
    }
   ],
   "source": [
    "import pycaret\n",
    "import pycaret.anomaly as pyano"
   ]
  },
  {
   "cell_type": "code",
   "execution_count": 8,
   "id": "f63d0ec5-832e-4f92-b5b9-8afe9e3354c0",
   "metadata": {},
   "outputs": [],
   "source": [
    "data1 = data.copy()"
   ]
  },
  {
   "cell_type": "code",
   "execution_count": 9,
   "id": "f3e8a01f-b8af-424a-b84b-d6b0563398cd",
   "metadata": {
    "tags": []
   },
   "outputs": [
    {
     "name": "stderr",
     "output_type": "stream",
     "text": [
      "Traceback (most recent call last):\n",
      "  File \"/home/jupyter-jihong0429/.local/lib/python3.10/site-packages/pycaret/internal/logging.py\", line 146, in create_logger\n",
      "    ch = logging.FileHandler(path)\n",
      "  File \"/opt/tljh/user/lib/python3.10/logging/__init__.py\", line 1169, in __init__\n",
      "    StreamHandler.__init__(self, self._open())\n",
      "  File \"/opt/tljh/user/lib/python3.10/logging/__init__.py\", line 1201, in _open\n",
      "    return open_func(self.baseFilename, self.mode,\n",
      "PermissionError: [Errno 13] Permission denied: '/home/jupyter-jihong0429/anomal/anomaly_score/logs.log'\n"
     ]
    },
    {
     "data": {
      "text/html": [
       "<style type=\"text/css\">\n",
       "#T_b4e0a_row4_col1, #T_b4e0a_row9_col1 {\n",
       "  background-color: lightgreen;\n",
       "}\n",
       "</style>\n",
       "<table id=\"T_b4e0a\">\n",
       "  <thead>\n",
       "    <tr>\n",
       "      <th class=\"blank level0\" >&nbsp;</th>\n",
       "      <th id=\"T_b4e0a_level0_col0\" class=\"col_heading level0 col0\" >Description</th>\n",
       "      <th id=\"T_b4e0a_level0_col1\" class=\"col_heading level0 col1\" >Value</th>\n",
       "    </tr>\n",
       "  </thead>\n",
       "  <tbody>\n",
       "    <tr>\n",
       "      <th id=\"T_b4e0a_level0_row0\" class=\"row_heading level0 row0\" >0</th>\n",
       "      <td id=\"T_b4e0a_row0_col0\" class=\"data row0 col0\" >Session id</td>\n",
       "      <td id=\"T_b4e0a_row0_col1\" class=\"data row0 col1\" >31</td>\n",
       "    </tr>\n",
       "    <tr>\n",
       "      <th id=\"T_b4e0a_level0_row1\" class=\"row_heading level0 row1\" >1</th>\n",
       "      <td id=\"T_b4e0a_row1_col0\" class=\"data row1 col0\" >Original data shape</td>\n",
       "      <td id=\"T_b4e0a_row1_col1\" class=\"data row1 col1\" >(346675, 8)</td>\n",
       "    </tr>\n",
       "    <tr>\n",
       "      <th id=\"T_b4e0a_level0_row2\" class=\"row_heading level0 row2\" >2</th>\n",
       "      <td id=\"T_b4e0a_row2_col0\" class=\"data row2 col0\" >Transformed data shape</td>\n",
       "      <td id=\"T_b4e0a_row2_col1\" class=\"data row2 col1\" >(346675, 8)</td>\n",
       "    </tr>\n",
       "    <tr>\n",
       "      <th id=\"T_b4e0a_level0_row3\" class=\"row_heading level0 row3\" >3</th>\n",
       "      <td id=\"T_b4e0a_row3_col0\" class=\"data row3 col0\" >Numeric features</td>\n",
       "      <td id=\"T_b4e0a_row3_col1\" class=\"data row3 col1\" >8</td>\n",
       "    </tr>\n",
       "    <tr>\n",
       "      <th id=\"T_b4e0a_level0_row4\" class=\"row_heading level0 row4\" >4</th>\n",
       "      <td id=\"T_b4e0a_row4_col0\" class=\"data row4 col0\" >Preprocess</td>\n",
       "      <td id=\"T_b4e0a_row4_col1\" class=\"data row4 col1\" >True</td>\n",
       "    </tr>\n",
       "    <tr>\n",
       "      <th id=\"T_b4e0a_level0_row5\" class=\"row_heading level0 row5\" >5</th>\n",
       "      <td id=\"T_b4e0a_row5_col0\" class=\"data row5 col0\" >Imputation type</td>\n",
       "      <td id=\"T_b4e0a_row5_col1\" class=\"data row5 col1\" >simple</td>\n",
       "    </tr>\n",
       "    <tr>\n",
       "      <th id=\"T_b4e0a_level0_row6\" class=\"row_heading level0 row6\" >6</th>\n",
       "      <td id=\"T_b4e0a_row6_col0\" class=\"data row6 col0\" >Numeric imputation</td>\n",
       "      <td id=\"T_b4e0a_row6_col1\" class=\"data row6 col1\" >mean</td>\n",
       "    </tr>\n",
       "    <tr>\n",
       "      <th id=\"T_b4e0a_level0_row7\" class=\"row_heading level0 row7\" >7</th>\n",
       "      <td id=\"T_b4e0a_row7_col0\" class=\"data row7 col0\" >Categorical imputation</td>\n",
       "      <td id=\"T_b4e0a_row7_col1\" class=\"data row7 col1\" >mode</td>\n",
       "    </tr>\n",
       "    <tr>\n",
       "      <th id=\"T_b4e0a_level0_row8\" class=\"row_heading level0 row8\" >8</th>\n",
       "      <td id=\"T_b4e0a_row8_col0\" class=\"data row8 col0\" >CPU Jobs</td>\n",
       "      <td id=\"T_b4e0a_row8_col1\" class=\"data row8 col1\" >-1</td>\n",
       "    </tr>\n",
       "    <tr>\n",
       "      <th id=\"T_b4e0a_level0_row9\" class=\"row_heading level0 row9\" >9</th>\n",
       "      <td id=\"T_b4e0a_row9_col0\" class=\"data row9 col0\" >Use GPU</td>\n",
       "      <td id=\"T_b4e0a_row9_col1\" class=\"data row9 col1\" >True</td>\n",
       "    </tr>\n",
       "    <tr>\n",
       "      <th id=\"T_b4e0a_level0_row10\" class=\"row_heading level0 row10\" >10</th>\n",
       "      <td id=\"T_b4e0a_row10_col0\" class=\"data row10 col0\" >Log Experiment</td>\n",
       "      <td id=\"T_b4e0a_row10_col1\" class=\"data row10 col1\" >False</td>\n",
       "    </tr>\n",
       "    <tr>\n",
       "      <th id=\"T_b4e0a_level0_row11\" class=\"row_heading level0 row11\" >11</th>\n",
       "      <td id=\"T_b4e0a_row11_col0\" class=\"data row11 col0\" >Experiment Name</td>\n",
       "      <td id=\"T_b4e0a_row11_col1\" class=\"data row11 col1\" >anomaly-default-name</td>\n",
       "    </tr>\n",
       "    <tr>\n",
       "      <th id=\"T_b4e0a_level0_row12\" class=\"row_heading level0 row12\" >12</th>\n",
       "      <td id=\"T_b4e0a_row12_col0\" class=\"data row12 col0\" >USI</td>\n",
       "      <td id=\"T_b4e0a_row12_col1\" class=\"data row12 col1\" >8718</td>\n",
       "    </tr>\n",
       "  </tbody>\n",
       "</table>\n"
      ],
      "text/plain": [
       "<pandas.io.formats.style.Styler at 0x7fb09e84a230>"
      ]
     },
     "metadata": {},
     "output_type": "display_data"
    },
    {
     "data": {
      "text/html": [],
      "text/plain": [
       "<IPython.core.display.HTML object>"
      ]
     },
     "metadata": {},
     "output_type": "display_data"
    },
    {
     "data": {
      "text/html": [],
      "text/plain": [
       "<IPython.core.display.HTML object>"
      ]
     },
     "metadata": {},
     "output_type": "display_data"
    },
    {
     "data": {
      "application/vnd.jupyter.widget-view+json": {
       "model_id": "",
       "version_major": 2,
       "version_minor": 0
      },
      "text/plain": [
       "Processing:   0%|          | 0/3 [00:00<?, ?it/s]"
      ]
     },
     "metadata": {},
     "output_type": "display_data"
    },
    {
     "name": "stdout",
     "output_type": "stream",
     "text": [
      "time : 6.574791431427002\n"
     ]
    }
   ],
   "source": [
    "import time\n",
    "start = time.time()  # 시작 시간 저장\n",
    "exp_ano = pyano.setup(data=data1 , use_gpu=True , session_id=31, index=False)\n",
    "ml_model = pyano.create_model('iforest')\n",
    "data_ano = pyano.assign_model(ml_model)\n",
    "data_ano1 = data_ano.copy()\n",
    "\n",
    "print(\"time :\", time.time() - start)"
   ]
  },
  {
   "cell_type": "code",
   "execution_count": 10,
   "id": "c7f3ab0d-be7c-48f3-ae3c-747936344a51",
   "metadata": {},
   "outputs": [
    {
     "data": {
      "text/plain": [
       "<Axes: ylabel='Density'>"
      ]
     },
     "execution_count": 10,
     "metadata": {},
     "output_type": "execute_result"
    },
    {
     "data": {
      "image/png": "[encoded data removed]",
      "text/plain": [
       "<Figure size 800x550 with 1 Axes>"
      ]
     },
     "metadata": {},
     "output_type": "display_data"
    }
   ],
   "source": [
    "plt.rcParams['font.family'] = 'DeJavu Serif'\n",
    "sns.distplot(data_ano[['Anomaly_Score']])"
   ]
  },
  {
   "cell_type": "code",
   "execution_count": 11,
   "id": "b75307be-3400-4f76-a70e-e5739867ba9a",
   "metadata": {},
   "outputs": [
    {
     "data": {
      "text/html": [
       "<div>\n",
       "<style scoped>\n",
       "    .dataframe tbody tr th:only-of-type {\n",
       "        vertical-align: middle;\n",
       "    }\n",
       "\n",
       "    .dataframe tbody tr th {\n",
       "        vertical-align: top;\n",
       "    }\n",
       "\n",
       "    .dataframe thead th {\n",
       "        text-align: right;\n",
       "    }\n",
       "</style>\n",
       "<table border=\"1\" class=\"dataframe\">\n",
       "  <thead>\n",
       "    <tr style=\"text-align: right;\">\n",
       "      <th></th>\n",
       "      <th>분류</th>\n",
       "      <th>거래량</th>\n",
       "      <th>미결제약정</th>\n",
       "      <th>simple moneyness</th>\n",
       "      <th>잔존만기</th>\n",
       "      <th>rate</th>\n",
       "      <th>kvix</th>\n",
       "      <th>종가</th>\n",
       "      <th>Anomaly</th>\n",
       "      <th>Anomaly_Score</th>\n",
       "    </tr>\n",
       "  </thead>\n",
       "  <tbody>\n",
       "    <tr>\n",
       "      <th>0</th>\n",
       "      <td>1</td>\n",
       "      <td>3</td>\n",
       "      <td>38</td>\n",
       "      <td>0.853653</td>\n",
       "      <td>0.464286</td>\n",
       "      <td>1.964</td>\n",
       "      <td>19.740000</td>\n",
       "      <td>42.434170</td>\n",
       "      <td>0</td>\n",
       "      <td>-0.125811</td>\n",
       "    </tr>\n",
       "    <tr>\n",
       "      <th>1</th>\n",
       "      <td>1</td>\n",
       "      <td>1</td>\n",
       "      <td>1090</td>\n",
       "      <td>0.826336</td>\n",
       "      <td>0.126984</td>\n",
       "      <td>1.964</td>\n",
       "      <td>19.740000</td>\n",
       "      <td>53.501606</td>\n",
       "      <td>0</td>\n",
       "      <td>-0.133333</td>\n",
       "    </tr>\n",
       "    <tr>\n",
       "      <th>2</th>\n",
       "      <td>1</td>\n",
       "      <td>7</td>\n",
       "      <td>549</td>\n",
       "      <td>0.800713</td>\n",
       "      <td>0.206349</td>\n",
       "      <td>1.964</td>\n",
       "      <td>19.740000</td>\n",
       "      <td>62.985649</td>\n",
       "      <td>0</td>\n",
       "      <td>-0.137642</td>\n",
       "    </tr>\n",
       "    <tr>\n",
       "      <th>3</th>\n",
       "      <td>1</td>\n",
       "      <td>3</td>\n",
       "      <td>3</td>\n",
       "      <td>0.882838</td>\n",
       "      <td>0.285714</td>\n",
       "      <td>1.964</td>\n",
       "      <td>19.740000</td>\n",
       "      <td>33.313255</td>\n",
       "      <td>0</td>\n",
       "      <td>-0.143178</td>\n",
       "    </tr>\n",
       "    <tr>\n",
       "      <th>4</th>\n",
       "      <td>1</td>\n",
       "      <td>924</td>\n",
       "      <td>2273</td>\n",
       "      <td>0.860767</td>\n",
       "      <td>0.126984</td>\n",
       "      <td>1.964</td>\n",
       "      <td>19.740000</td>\n",
       "      <td>41.042740</td>\n",
       "      <td>0</td>\n",
       "      <td>-0.128051</td>\n",
       "    </tr>\n",
       "    <tr>\n",
       "      <th>...</th>\n",
       "      <td>...</td>\n",
       "      <td>...</td>\n",
       "      <td>...</td>\n",
       "      <td>...</td>\n",
       "      <td>...</td>\n",
       "      <td>...</td>\n",
       "      <td>...</td>\n",
       "      <td>...</td>\n",
       "      <td>...</td>\n",
       "      <td>...</td>\n",
       "    </tr>\n",
       "    <tr>\n",
       "      <th>346670</th>\n",
       "      <td>1</td>\n",
       "      <td>5882</td>\n",
       "      <td>4406</td>\n",
       "      <td>0.900604</td>\n",
       "      <td>0.043651</td>\n",
       "      <td>3.594</td>\n",
       "      <td>17.780001</td>\n",
       "      <td>38.936886</td>\n",
       "      <td>0</td>\n",
       "      <td>-0.086652</td>\n",
       "    </tr>\n",
       "    <tr>\n",
       "      <th>346671</th>\n",
       "      <td>0</td>\n",
       "      <td>18624</td>\n",
       "      <td>20649</td>\n",
       "      <td>1.084818</td>\n",
       "      <td>0.043651</td>\n",
       "      <td>3.594</td>\n",
       "      <td>17.780001</td>\n",
       "      <td>0.150000</td>\n",
       "      <td>0</td>\n",
       "      <td>-0.053641</td>\n",
       "    </tr>\n",
       "    <tr>\n",
       "      <th>346672</th>\n",
       "      <td>1</td>\n",
       "      <td>3640</td>\n",
       "      <td>2521</td>\n",
       "      <td>0.883926</td>\n",
       "      <td>0.043651</td>\n",
       "      <td>3.594</td>\n",
       "      <td>17.780001</td>\n",
       "      <td>46.405128</td>\n",
       "      <td>0</td>\n",
       "      <td>-0.085688</td>\n",
       "    </tr>\n",
       "    <tr>\n",
       "      <th>346673</th>\n",
       "      <td>1</td>\n",
       "      <td>22122</td>\n",
       "      <td>7772</td>\n",
       "      <td>0.935922</td>\n",
       "      <td>0.043651</td>\n",
       "      <td>3.594</td>\n",
       "      <td>17.780001</td>\n",
       "      <td>24.230400</td>\n",
       "      <td>0</td>\n",
       "      <td>-0.063774</td>\n",
       "    </tr>\n",
       "    <tr>\n",
       "      <th>346674</th>\n",
       "      <td>0</td>\n",
       "      <td>77</td>\n",
       "      <td>50</td>\n",
       "      <td>0.961047</td>\n",
       "      <td>0.043651</td>\n",
       "      <td>3.594</td>\n",
       "      <td>17.780001</td>\n",
       "      <td>14.600000</td>\n",
       "      <td>0</td>\n",
       "      <td>-0.119475</td>\n",
       "    </tr>\n",
       "  </tbody>\n",
       "</table>\n",
       "<p>346675 rows × 10 columns</p>\n",
       "</div>"
      ],
      "text/plain": [
       "        분류    거래량  미결제약정  simple moneyness      잔존만기   rate       kvix  \\\n",
       "0        1      3     38          0.853653  0.464286  1.964  19.740000   \n",
       "1        1      1   1090          0.826336  0.126984  1.964  19.740000   \n",
       "2        1      7    549          0.800713  0.206349  1.964  19.740000   \n",
       "3        1      3      3          0.882838  0.285714  1.964  19.740000   \n",
       "4        1    924   2273          0.860767  0.126984  1.964  19.740000   \n",
       "...     ..    ...    ...               ...       ...    ...        ...   \n",
       "346670   1   5882   4406          0.900604  0.043651  3.594  17.780001   \n",
       "346671   0  18624  20649          1.084818  0.043651  3.594  17.780001   \n",
       "346672   1   3640   2521          0.883926  0.043651  3.594  17.780001   \n",
       "346673   1  22122   7772          0.935922  0.043651  3.594  17.780001   \n",
       "346674   0     77     50          0.961047  0.043651  3.594  17.780001   \n",
       "\n",
       "               종가  Anomaly  Anomaly_Score  \n",
       "0       42.434170        0      -0.125811  \n",
       "1       53.501606        0      -0.133333  \n",
       "2       62.985649        0      -0.137642  \n",
       "3       33.313255        0      -0.143178  \n",
       "4       41.042740        0      -0.128051  \n",
       "...           ...      ...            ...  \n",
       "346670  38.936886        0      -0.086652  \n",
       "346671   0.150000        0      -0.053641  \n",
       "346672  46.405128        0      -0.085688  \n",
       "346673  24.230400        0      -0.063774  \n",
       "346674  14.600000        0      -0.119475  \n",
       "\n",
       "[346675 rows x 10 columns]"
      ]
     },
     "execution_count": 11,
     "metadata": {},
     "output_type": "execute_result"
    }
   ],
   "source": [
    "data_ano"
   ]
  },
  {
   "cell_type": "code",
   "execution_count": 12,
   "id": "7b87d3b7-e768-4762-bf61-b0f61b659b3f",
   "metadata": {},
   "outputs": [
    {
     "name": "stdout",
     "output_type": "stream",
     "text": [
      "(221872, 7) (55468, 7) (69335, 7) (221872, 1) (55468, 1) (69335, 1) (221872, 1) (55468, 1) (69335, 1)\n"
     ]
    }
   ],
   "source": [
    "x = data_ano.drop(['종가'],axis=1)\n",
    "y = data_ano[['종가']]\n",
    "\n",
    "x['rate'] *= 0.01\n",
    "x['kvix'] *= 0.01\n",
    "\n",
    "scaler = MinMaxScaler()\n",
    "scaler.fit(x[['거래량','미결제약정']])\n",
    "x[['거래량','미결제약정']] = scaler.transform(x[['거래량','미결제약정']])\n",
    "\n",
    "x_train,x_test,y_train,y_test = train_test_split(x,y,test_size=0.2,random_state=0,shuffle=True)\n",
    "x_train, x_val, y_train, y_val = train_test_split(x_train, y_train, test_size=0.2, shuffle=True, random_state=0)\n",
    "\n",
    "as_train = x_train[['Anomaly_Score']]; x_train = x_train.drop(['Anomaly','Anomaly_Score'],axis=1)\n",
    "as_val = x_val[['Anomaly_Score']]; x_val = x_val.drop(['Anomaly','Anomaly_Score'],axis=1)\n",
    "as_test = x_test[['Anomaly_Score']]; x_test = x_test.drop(['Anomaly','Anomaly_Score'],axis=1)\n",
    "\n",
    "print(x_train.shape, x_val.shape, x_test.shape, y_train.shape, y_val.shape, y_test.shape , as_train.shape, as_val.shape, as_test.shape)"
   ]
  },
  {
   "cell_type": "code",
   "execution_count": 13,
   "id": "e0a050a4-4189-4c40-83ba-4486ce1f1755",
   "metadata": {},
   "outputs": [
    {
     "data": {
      "text/html": [
       "<div>\n",
       "<style scoped>\n",
       "    .dataframe tbody tr th:only-of-type {\n",
       "        vertical-align: middle;\n",
       "    }\n",
       "\n",
       "    .dataframe tbody tr th {\n",
       "        vertical-align: top;\n",
       "    }\n",
       "\n",
       "    .dataframe thead th {\n",
       "        text-align: right;\n",
       "    }\n",
       "</style>\n",
       "<table border=\"1\" class=\"dataframe\">\n",
       "  <thead>\n",
       "    <tr style=\"text-align: right;\">\n",
       "      <th></th>\n",
       "      <th>종가</th>\n",
       "    </tr>\n",
       "  </thead>\n",
       "  <tbody>\n",
       "    <tr>\n",
       "      <th>count</th>\n",
       "      <td>69335.000000</td>\n",
       "    </tr>\n",
       "    <tr>\n",
       "      <th>mean</th>\n",
       "      <td>20.491476</td>\n",
       "    </tr>\n",
       "    <tr>\n",
       "      <th>std</th>\n",
       "      <td>31.496487</td>\n",
       "    </tr>\n",
       "    <tr>\n",
       "      <th>min</th>\n",
       "      <td>0.000000</td>\n",
       "    </tr>\n",
       "    <tr>\n",
       "      <th>25%</th>\n",
       "      <td>0.480000</td>\n",
       "    </tr>\n",
       "    <tr>\n",
       "      <th>50%</th>\n",
       "      <td>4.700000</td>\n",
       "    </tr>\n",
       "    <tr>\n",
       "      <th>75%</th>\n",
       "      <td>30.422901</td>\n",
       "    </tr>\n",
       "    <tr>\n",
       "      <th>max</th>\n",
       "      <td>235.826584</td>\n",
       "    </tr>\n",
       "  </tbody>\n",
       "</table>\n",
       "</div>"
      ],
      "text/plain": [
       "                 종가\n",
       "count  69335.000000\n",
       "mean      20.491476\n",
       "std       31.496487\n",
       "min        0.000000\n",
       "25%        0.480000\n",
       "50%        4.700000\n",
       "75%       30.422901\n",
       "max      235.826584"
      ]
     },
     "execution_count": 13,
     "metadata": {},
     "output_type": "execute_result"
    }
   ],
   "source": [
    "y_test.describe()"
   ]
  },
  {
   "cell_type": "markdown",
   "id": "def4aefe-82cf-4994-b6c3-27c53a3e3ea9",
   "metadata": {
    "tags": []
   },
   "source": [
    "## Option type classification\n",
    "## moneyness\n",
    "- ITM  moneyness < 0.95\n",
    "- ATM  0.95< moneyness <1.05\n",
    "- OTM  1.05< moneyness  "
   ]
  },
  {
   "cell_type": "code",
   "execution_count": 15,
   "id": "1e874f33-d709-4b6b-aebe-f18068ba0c75",
   "metadata": {},
   "outputs": [],
   "source": [
    "data_ano1 = data_ano.copy()\n",
    "data_ano1['classify'] = data_ano1.apply(option_type, axis=1)\n",
    "data_ano1['mn_class'] = data_ano1['classify'].apply(simple_classify)\n",
    "class_mapping = {'ITM': 0, 'OTM': 1, 'ATM': 2}\n",
    "data_ano1['mn_class'] = data_ano1['mn_class'].map(class_mapping)"
   ]
  },
  {
   "cell_type": "code",
   "execution_count": 16,
   "id": "b598a505-9516-4eae-af37-3ca2b0d1fa8e",
   "metadata": {},
   "outputs": [],
   "source": [
    "x_test['mn_class'] = data_ano1['mn_class'].loc[x_test.index]"
   ]
  },
  {
   "cell_type": "code",
   "execution_count": 17,
   "id": "e8365507-262e-44b3-bf68-24eff6488e2b",
   "metadata": {},
   "outputs": [
    {
     "name": "stdout",
     "output_type": "stream",
     "text": [
      "(22442, 7) (32652, 7) (14241, 7)\n",
      "itm 32.3675% , otm 47.0931%, atm 20.5394%\n"
     ]
    }
   ],
   "source": [
    "itm_data = x_test[x_test['mn_class'] == 0]; itm_data = itm_data.drop(['mn_class'], axis=1)\n",
    "otm_data = x_test[x_test['mn_class'] == 1]; otm_data = otm_data.drop(['mn_class'], axis=1)\n",
    "atm_data = x_test[x_test['mn_class'] == 2]; atm_data = atm_data.drop(['mn_class'], axis=1)\n",
    "\n",
    "itm_y = y_test.loc[itm_data.index]\n",
    "otm_y = y_test.loc[otm_data.index]\n",
    "atm_y = y_test.loc[atm_data.index]\n",
    "print(itm_data.shape, otm_data.shape, atm_data.shape)\n",
    "\n",
    "per1 = (itm_data.shape[0] / x_test.shape[0]) * 100\n",
    "per2 = (otm_data.shape[0] /  x_test.shape[0]) * 100\n",
    "per3 = (atm_data.shape[0] /  x_test.shape[0]) * 100\n",
    "print(f\"itm {per1:.4f}% , otm {per2:.4f}%, atm {per3:.4f}%\" )\n",
    "\n",
    "itm_dataloader = create_dataloader(itm_data, itm_y)\n",
    "otm_dataloader = create_dataloader(otm_data, otm_y)\n",
    "atm_dataloader = create_dataloader(atm_data, atm_y)"
   ]
  },
  {
   "cell_type": "code",
   "execution_count": 18,
   "id": "89395baf-efb7-4848-92aa-f6f1b151699d",
   "metadata": {},
   "outputs": [
    {
     "name": "stdout",
     "output_type": "stream",
     "text": [
      "(221872, 7) (55468, 7) (69335, 7) (221872, 1) (55468, 1) (69335, 1) (221872, 1) (55468, 1) (69335, 1)\n"
     ]
    }
   ],
   "source": [
    "x_test = x_test.drop(['mn_class'], axis=1)\n",
    "print(x_train.shape, x_val.shape, x_test.shape, y_train.shape, y_val.shape, y_test.shape , as_train.shape, as_val.shape, as_test.shape)"
   ]
  },
  {
   "cell_type": "code",
   "execution_count": 19,
   "id": "dd94e33c-af85-4bc4-90a9-a980acd83910",
   "metadata": {},
   "outputs": [],
   "source": [
    "x_train = torch.from_numpy(x_train.values).float()\n",
    "x_val = torch.from_numpy(x_val.values).float()\n",
    "x_test = torch.from_numpy(x_test.values).float()\n",
    "y_train = torch.from_numpy(y_train.values).float()\n",
    "y_val = torch.from_numpy(y_val.values).float()\n",
    "y_test = torch.from_numpy(y_test.values).float()\n",
    "as_train = torch.from_numpy(as_train.values).float()\n",
    "as_val = torch.from_numpy(as_val.values).float()\n",
    "as_test = torch.from_numpy(as_test.values).float()\n",
    "\n",
    "dataset_train = torch.utils.data.TensorDataset(x_train, y_train, as_train)\n",
    "dataset_val = torch.utils.data.TensorDataset(x_val, y_val, as_val)\n",
    "dataset_test = torch.utils.data.TensorDataset(x_test, y_test, as_test)\n",
    "\n",
    "dataloader_train = torch.utils.data.DataLoader(dataset_train, batch_size=500, shuffle=True, num_workers=8, drop_last=True)\n",
    "dataloader_val = torch.utils.data.DataLoader(dataset_val, batch_size=500, shuffle=True, num_workers=8, drop_last=True)\n",
    "dataloader_test = torch.utils.data.DataLoader(dataset_test, batch_size=500, shuffle=False, num_workers=8, drop_last=True)"
   ]
  },
  {
   "cell_type": "code",
   "execution_count": 20,
   "id": "c9ffae79-806b-4077-9471-c3c7f5f11092",
   "metadata": {},
   "outputs": [],
   "source": [
    "test_dataloaders = [itm_dataloader, otm_dataloader, atm_dataloader]"
   ]
  },
  {
   "cell_type": "code",
   "execution_count": null,
   "id": "d535b0d1-8160-4e14-bc51-7fb2f1dbd30d",
   "metadata": {},
   "outputs": [],
   "source": []
  },
  {
   "cell_type": "markdown",
   "id": "2218ea81-577a-4e4a-9acc-2857df48934d",
   "metadata": {
    "tags": []
   },
   "source": [
    "## Market Frequet classification\n",
    "## Volume \n",
    "- very low [0, 10]\n",
    "- low [10, 100]\n",
    "- high [100, 1000]\n",
    "- very high [1000, float('inf')]"
   ]
  },
  {
   "cell_type": "code",
   "execution_count": 21,
   "id": "0d4aae65-7c30-4255-9af9-12e28d2c0894",
   "metadata": {},
   "outputs": [
    {
     "name": "stdout",
     "output_type": "stream",
     "text": [
      "(221872, 7) (55468, 7) (69335, 7) (221872, 1) (55468, 1) (69335, 1) (221872, 1) (55468, 1) (69335, 1)\n"
     ]
    }
   ],
   "source": [
    "x = data_ano.drop(['종가'],axis=1)\n",
    "y = data_ano[['종가']]\n",
    "\n",
    "x['rate'] *= 0.01\n",
    "x['kvix'] *= 0.01\n",
    "\n",
    "scaler = MinMaxScaler()\n",
    "scaler.fit(x[['거래량','미결제약정']])\n",
    "x[['거래량','미결제약정']] = scaler.transform(x[['거래량','미결제약정']])\n",
    "\n",
    "x_train,x_test,y_train,y_test = train_test_split(x,y,test_size=0.2,random_state=0,shuffle=True)\n",
    "x_train, x_val, y_train, y_val = train_test_split(x_train, y_train, test_size=0.2, shuffle=True, random_state=0)\n",
    "\n",
    "as_train = x_train[['Anomaly_Score']]; x_train = x_train.drop(['Anomaly','Anomaly_Score'],axis=1)\n",
    "as_val = x_val[['Anomaly_Score']]; x_val = x_val.drop(['Anomaly','Anomaly_Score'],axis=1)\n",
    "as_test = x_test[['Anomaly_Score']]; x_test = x_test.drop(['Anomaly','Anomaly_Score'],axis=1)\n",
    "\n",
    "print(x_train.shape, x_val.shape, x_test.shape, y_train.shape, y_val.shape, y_test.shape , as_train.shape, as_val.shape, as_test.shape)"
   ]
  },
  {
   "cell_type": "code",
   "execution_count": 22,
   "id": "a429c1d4-4338-4c26-ba14-c2dc2c5a5a1e",
   "metadata": {},
   "outputs": [
    {
     "name": "stdout",
     "output_type": "stream",
     "text": [
      "       freq\n",
      "312257    3\n",
      "162608    2\n",
      "140660    1\n",
      "227408    2\n",
      "21732     2\n",
      "314833    3\n",
      "278881    2\n",
      "306786    0\n",
      "231393    2\n",
      "136722    2\n"
     ]
    }
   ],
   "source": [
    "data_ano2 = data_ano.copy()\n",
    "bins = [0, 10, 100, 1000, float('inf')]  # 구간 경계값\n",
    "labels = ['Very Low', 'Low', 'High', 'Very High']\n",
    "data_ano2['거래량_분류'] = pd.cut(data_ano2['거래량'], bins=bins, labels=labels, right=False)\n",
    "class_mapping = {'Very High': 0, 'High': 1, 'Low': 2, 'Very Low': 3}\n",
    "data_ano2['freq'] = data_ano2['거래량_분류'].map(class_mapping)\n",
    "data_ano2 = data_ano2.drop(['거래량_분류'], axis=1)\n",
    "\n",
    "print(data_ano2[['freq']].sample(10))"
   ]
  },
  {
   "cell_type": "code",
   "execution_count": 23,
   "id": "7b073a0f-efa5-48d5-b911-d87a8022413a",
   "metadata": {},
   "outputs": [],
   "source": [
    "x_test['freq'] = data_ano2['freq'].loc[x_test.index]"
   ]
  },
  {
   "cell_type": "code",
   "execution_count": 24,
   "id": "0f41e647-5295-4a20-aab6-6f0f8905e122",
   "metadata": {},
   "outputs": [
    {
     "data": {
      "text/html": [
       "<div>\n",
       "<style scoped>\n",
       "    .dataframe tbody tr th:only-of-type {\n",
       "        vertical-align: middle;\n",
       "    }\n",
       "\n",
       "    .dataframe tbody tr th {\n",
       "        vertical-align: top;\n",
       "    }\n",
       "\n",
       "    .dataframe thead th {\n",
       "        text-align: right;\n",
       "    }\n",
       "</style>\n",
       "<table border=\"1\" class=\"dataframe\">\n",
       "  <thead>\n",
       "    <tr style=\"text-align: right;\">\n",
       "      <th></th>\n",
       "      <th>종가</th>\n",
       "    </tr>\n",
       "  </thead>\n",
       "  <tbody>\n",
       "    <tr>\n",
       "      <th>count</th>\n",
       "      <td>69335.000000</td>\n",
       "    </tr>\n",
       "    <tr>\n",
       "      <th>mean</th>\n",
       "      <td>20.491476</td>\n",
       "    </tr>\n",
       "    <tr>\n",
       "      <th>std</th>\n",
       "      <td>31.496487</td>\n",
       "    </tr>\n",
       "    <tr>\n",
       "      <th>min</th>\n",
       "      <td>0.000000</td>\n",
       "    </tr>\n",
       "    <tr>\n",
       "      <th>25%</th>\n",
       "      <td>0.480000</td>\n",
       "    </tr>\n",
       "    <tr>\n",
       "      <th>50%</th>\n",
       "      <td>4.700000</td>\n",
       "    </tr>\n",
       "    <tr>\n",
       "      <th>75%</th>\n",
       "      <td>30.422901</td>\n",
       "    </tr>\n",
       "    <tr>\n",
       "      <th>max</th>\n",
       "      <td>235.826584</td>\n",
       "    </tr>\n",
       "  </tbody>\n",
       "</table>\n",
       "</div>"
      ],
      "text/plain": [
       "                 종가\n",
       "count  69335.000000\n",
       "mean      20.491476\n",
       "std       31.496487\n",
       "min        0.000000\n",
       "25%        0.480000\n",
       "50%        4.700000\n",
       "75%       30.422901\n",
       "max      235.826584"
      ]
     },
     "execution_count": 24,
     "metadata": {},
     "output_type": "execute_result"
    }
   ],
   "source": [
    "y_test.describe()"
   ]
  },
  {
   "cell_type": "code",
   "execution_count": 25,
   "id": "35160a14-c390-4d01-b3bc-7482010af0a9",
   "metadata": {},
   "outputs": [
    {
     "name": "stdout",
     "output_type": "stream",
     "text": [
      "(22442, 7) (32652, 7) (14241, 7)\n",
      "VeryHighFreq 20.3519% , HighFreq 20.6216%, LowFreq 25.7720% ,VeryLowFreq 33.2545%\n"
     ]
    }
   ],
   "source": [
    "vhf_data = x_test[x_test['freq'] == 0]; vhf_data = vhf_data.drop(['freq'], axis=1)\n",
    "hf_data = x_test[x_test['freq'] == 1]; hf_data = hf_data.drop(['freq'], axis=1)\n",
    "lf_data = x_test[x_test['freq'] == 2]; lf_data = lf_data.drop(['freq'], axis=1)\n",
    "vlf_data = x_test[x_test['freq'] == 3]; vlf_data = vlf_data.drop(['freq'], axis=1)\n",
    "\n",
    "vhf_y = y_test.loc[vhf_data.index]\n",
    "hf_y = y_test.loc[hf_data.index]\n",
    "lf_y = y_test.loc[lf_data.index]\n",
    "vlf_y = y_test.loc[vlf_data.index]\n",
    "print(itm_data.shape, otm_data.shape, atm_data.shape)\n",
    "\n",
    "per1 = (vhf_data.shape[0] / x_test.shape[0]) * 100\n",
    "per2 = (hf_data.shape[0] /  x_test.shape[0]) * 100\n",
    "per3 = (lf_data.shape[0] /  x_test.shape[0]) * 100\n",
    "per4 = (vlf_data.shape[0] /  x_test.shape[0]) * 100\n",
    "print(f\"VeryHighFreq {per1:.4f}% , HighFreq {per2:.4f}%, LowFreq {per3:.4f}% ,VeryLowFreq {per4:.4f}%\")\n",
    "\n",
    "vhf_dataloader = create_dataloader(vhf_data, vhf_y)\n",
    "hf_dataloader = create_dataloader(hf_data, hf_y)\n",
    "lf_dataloader = create_dataloader(lf_data, lf_y)\n",
    "vlf_dataloader = create_dataloader(vlf_data, vlf_y)"
   ]
  },
  {
   "cell_type": "code",
   "execution_count": 26,
   "id": "6845442d-545c-43d9-83ba-916296c54c5e",
   "metadata": {},
   "outputs": [
    {
     "name": "stdout",
     "output_type": "stream",
     "text": [
      "(221872, 7) (55468, 7) (69335, 7) (221872, 1) (55468, 1) (69335, 1) (221872, 1) (55468, 1) (69335, 1)\n"
     ]
    }
   ],
   "source": [
    "x_test = x_test.drop(['freq'], axis=1)\n",
    "print(x_train.shape, x_val.shape, x_test.shape, y_train.shape, y_val.shape, y_test.shape , as_train.shape, as_val.shape, as_test.shape)"
   ]
  },
  {
   "cell_type": "code",
   "execution_count": 27,
   "id": "c52e0583-cacb-426a-a977-fe64ccfad5b8",
   "metadata": {},
   "outputs": [
    {
     "name": "stdout",
     "output_type": "stream",
     "text": [
      "torch.Size([221872, 7]) torch.Size([55468, 7]) torch.Size([69335, 7]) torch.Size([221872, 1]) torch.Size([55468, 1]) torch.Size([69335, 1]) torch.Size([221872, 1]) torch.Size([55468, 1]) torch.Size([69335, 1])\n"
     ]
    }
   ],
   "source": [
    "x_train = torch.from_numpy(x_train.values).float()\n",
    "x_val = torch.from_numpy(x_val.values).float()\n",
    "x_test = torch.from_numpy(x_test.values).float()\n",
    "y_train = torch.from_numpy(y_train.values).float()\n",
    "y_val = torch.from_numpy(y_val.values).float()\n",
    "y_test = torch.from_numpy(y_test.values).float()\n",
    "as_train = torch.from_numpy(as_train.values).float()\n",
    "as_val = torch.from_numpy(as_val.values).float()\n",
    "as_test = torch.from_numpy(as_test.values).float()\n",
    "\n",
    "dataset_train = torch.utils.data.TensorDataset(x_train, y_train, as_train)\n",
    "dataset_val = torch.utils.data.TensorDataset(x_val, y_val, as_val)\n",
    "dataset_test = torch.utils.data.TensorDataset(x_test, y_test, as_test)\n",
    "\n",
    "dataloader_train = torch.utils.data.DataLoader(dataset_train, batch_size=500, shuffle=True, num_workers=8, drop_last=True)\n",
    "dataloader_val = torch.utils.data.DataLoader(dataset_val, batch_size=500, shuffle=True, num_workers=8, drop_last=True)\n",
    "dataloader_test = torch.utils.data.DataLoader(dataset_test, batch_size=500, shuffle=False, num_workers=8, drop_last=True)\n",
    "print(x_train.shape, x_val.shape, x_test.shape, y_train.shape, y_val.shape, y_test.shape , as_train.shape, as_val.shape, as_test.shape)"
   ]
  },
  {
   "cell_type": "markdown",
   "id": "df1e30ce-6995-4a43-83d4-18096e94c6d6",
   "metadata": {
    "tags": []
   },
   "source": [
    "## maturity classification\n",
    "- 잔존만기 = 0.04365 >> [2019.1.31 ~ 2019.2.14] >> biweek\n",
    "- 잔존만기 = 0.09127 >> [2019.1.15 ~ 2019.2.14] >> month\n",
    "- 잔존만기 = 0.25794 >> [2019.1.11 ~ 2019.4.11] >> quart\n",
    "- 잔존만기 = 0.52778 >> [2019.3.12 ~ 2019.9.12] >> half\n",
    "- 잔존만기 = 0.99603 >> [2019.3.28 ~ 2020.3.12] >> year"
   ]
  },
  {
   "cell_type": "code",
   "execution_count": 28,
   "id": "c18e2fb4-e719-4b0b-9ac0-77f0ca17b7f6",
   "metadata": {},
   "outputs": [
    {
     "name": "stdout",
     "output_type": "stream",
     "text": [
      "(221872, 7) (55468, 7) (69335, 7) (221872, 1) (55468, 1) (69335, 1) (221872, 1) (55468, 1) (69335, 1)\n"
     ]
    }
   ],
   "source": [
    "x = data_ano.drop(['종가'],axis=1)\n",
    "y = data_ano[['종가']]\n",
    "\n",
    "x['rate'] *= 0.01\n",
    "x['kvix'] *= 0.01\n",
    "\n",
    "scaler = MinMaxScaler()\n",
    "scaler.fit(x[['거래량','미결제약정']])\n",
    "x[['거래량','미결제약정']] = scaler.transform(x[['거래량','미결제약정']])\n",
    "\n",
    "x_train,x_test,y_train,y_test = train_test_split(x,y,test_size=0.2,random_state=0,shuffle=True)\n",
    "x_train, x_val, y_train, y_val = train_test_split(x_train, y_train, test_size=0.2, shuffle=True, random_state=0)\n",
    "\n",
    "as_train = x_train[['Anomaly_Score']]; x_train = x_train.drop(['Anomaly','Anomaly_Score'],axis=1)\n",
    "as_val = x_val[['Anomaly_Score']]; x_val = x_val.drop(['Anomaly','Anomaly_Score'],axis=1)\n",
    "as_test = x_test[['Anomaly_Score']]; x_test = x_test.drop(['Anomaly','Anomaly_Score'],axis=1)\n",
    "\n",
    "print(x_train.shape, x_val.shape, x_test.shape, y_train.shape, y_val.shape, y_test.shape , as_train.shape, as_val.shape, as_test.shape)"
   ]
  },
  {
   "cell_type": "code",
   "execution_count": 29,
   "id": "acc1cf68-0baa-4dcf-a5e3-40ba830fb9b5",
   "metadata": {},
   "outputs": [],
   "source": [
    "def classify_expiry(row):\n",
    "    if row < 0.04165:\n",
    "        return 'biweek'\n",
    "    elif 0.04165 <= row < 0.0825: #0.0833\n",
    "        return 'onemonth'\n",
    "    elif 0.0825 <= row < 0.25:\n",
    "        return 'quarter'\n",
    "    elif 0.25 <= row < 0.5:\n",
    "        return 'half'\n",
    "    else: \n",
    "        return 'year'"
   ]
  },
  {
   "cell_type": "code",
   "execution_count": 30,
   "id": "d0ac4a08-9f27-48ab-8756-34aa39ce9bfb",
   "metadata": {},
   "outputs": [
    {
     "name": "stdout",
     "output_type": "stream",
     "text": [
      "        expiry\n",
      "133361       2\n",
      "327277       3\n",
      "271104       2\n",
      "230052       2\n",
      "143784       2\n",
      "10182        4\n",
      "48795        1\n",
      "282493       2\n",
      "38382        2\n",
      "295648       2\n"
     ]
    }
   ],
   "source": [
    "data_ano3 = data_ano.copy()\n",
    "data_ano3['잔존만기_분류'] = data_ano3['잔존만기'].apply(classify_expiry)\n",
    "\n",
    "class_mapping = {'biweek': 0, 'onemonth': 1, 'quarter': 2, 'half': 3, 'year': 4}\n",
    "data_ano3['expiry'] = data_ano3['잔존만기_분류'].map(class_mapping)\n",
    "\n",
    "# 불필요한 컬럼 제거\n",
    "data_ano3 = data_ano3.drop(['잔존만기_분류'], axis=1)\n",
    "print(data_ano3[['expiry']].sample(10))"
   ]
  },
  {
   "cell_type": "code",
   "execution_count": 31,
   "id": "d27028bd-ba54-4f1d-bd9f-510ddce92715",
   "metadata": {},
   "outputs": [],
   "source": [
    "x_test['expiry'] = data_ano3['expiry'].loc[x_test.index]"
   ]
  },
  {
   "cell_type": "code",
   "execution_count": 32,
   "id": "ad08f9d3-af7e-4c8e-a21f-8b6edc1e7201",
   "metadata": {},
   "outputs": [
    {
     "name": "stdout",
     "output_type": "stream",
     "text": [
      "(2003, 7) (9914, 7) (35280, 7) (14923, 7) (7215, 7)\n",
      "Bi week 2.8889% , OneMonth 14.2987%, Quarter 50.8834% , Half 21.5230%, Year 10.4060%\n"
     ]
    }
   ],
   "source": [
    "b_data = x_test[x_test['expiry'] == 0]; b_data = b_data.drop(['expiry'], axis=1)\n",
    "o_data = x_test[x_test['expiry'] == 1]; o_data = o_data.drop(['expiry'], axis=1)\n",
    "q_data = x_test[x_test['expiry'] == 2]; q_data = q_data.drop(['expiry'], axis=1)\n",
    "h_data = x_test[x_test['expiry'] == 3]; h_data = h_data.drop(['expiry'], axis=1)\n",
    "y_data = x_test[x_test['expiry'] == 4]; y_data = y_data.drop(['expiry'], axis=1)\n",
    "\n",
    "b_y = y_test.loc[b_data.index]\n",
    "o_y = y_test.loc[o_data.index]\n",
    "q_y = y_test.loc[q_data.index]\n",
    "h_y = y_test.loc[h_data.index]\n",
    "y_y = y_test.loc[y_data.index]\n",
    "print(b_data.shape, o_data.shape, q_data.shape, h_data.shape, y_data.shape)\n",
    "\n",
    "per1 = (b_data.shape[0] / x_test.shape[0]) * 100\n",
    "per2 = (o_data.shape[0] /  x_test.shape[0]) * 100\n",
    "per3 = (q_data.shape[0] /  x_test.shape[0]) * 100\n",
    "per4 = (h_data.shape[0] /  x_test.shape[0]) * 100\n",
    "per5 = (y_data.shape[0] /  x_test.shape[0]) * 100\n",
    "print(f\"Bi week {per1:.4f}% , OneMonth {per2:.4f}%, Quarter {per3:.4f}% , Half {per4:.4f}%, Year {per5:.4f}%\")\n",
    "\n",
    "b_dataloader = create_dataloader(b_data, b_y)\n",
    "o_dataloader = create_dataloader(o_data, o_y)\n",
    "q_dataloader = create_dataloader(q_data, q_y)\n",
    "h_dataloader = create_dataloader(h_data, h_y)\n",
    "y_dataloader = create_dataloader(y_data, y_y)"
   ]
  },
  {
   "cell_type": "code",
   "execution_count": 33,
   "id": "142b29d3-f20a-448f-8fde-93d35bce7bad",
   "metadata": {},
   "outputs": [
    {
     "data": {
      "text/html": [
       "<div>\n",
       "<style scoped>\n",
       "    .dataframe tbody tr th:only-of-type {\n",
       "        vertical-align: middle;\n",
       "    }\n",
       "\n",
       "    .dataframe tbody tr th {\n",
       "        vertical-align: top;\n",
       "    }\n",
       "\n",
       "    .dataframe thead th {\n",
       "        text-align: right;\n",
       "    }\n",
       "</style>\n",
       "<table border=\"1\" class=\"dataframe\">\n",
       "  <thead>\n",
       "    <tr style=\"text-align: right;\">\n",
       "      <th></th>\n",
       "      <th>종가</th>\n",
       "    </tr>\n",
       "  </thead>\n",
       "  <tbody>\n",
       "    <tr>\n",
       "      <th>count</th>\n",
       "      <td>69335.000000</td>\n",
       "    </tr>\n",
       "    <tr>\n",
       "      <th>mean</th>\n",
       "      <td>20.491476</td>\n",
       "    </tr>\n",
       "    <tr>\n",
       "      <th>std</th>\n",
       "      <td>31.496487</td>\n",
       "    </tr>\n",
       "    <tr>\n",
       "      <th>min</th>\n",
       "      <td>0.000000</td>\n",
       "    </tr>\n",
       "    <tr>\n",
       "      <th>25%</th>\n",
       "      <td>0.480000</td>\n",
       "    </tr>\n",
       "    <tr>\n",
       "      <th>50%</th>\n",
       "      <td>4.700000</td>\n",
       "    </tr>\n",
       "    <tr>\n",
       "      <th>75%</th>\n",
       "      <td>30.422901</td>\n",
       "    </tr>\n",
       "    <tr>\n",
       "      <th>max</th>\n",
       "      <td>235.826584</td>\n",
       "    </tr>\n",
       "  </tbody>\n",
       "</table>\n",
       "</div>"
      ],
      "text/plain": [
       "                 종가\n",
       "count  69335.000000\n",
       "mean      20.491476\n",
       "std       31.496487\n",
       "min        0.000000\n",
       "25%        0.480000\n",
       "50%        4.700000\n",
       "75%       30.422901\n",
       "max      235.826584"
      ]
     },
     "execution_count": 33,
     "metadata": {},
     "output_type": "execute_result"
    }
   ],
   "source": [
    "y_test.describe()"
   ]
  },
  {
   "cell_type": "code",
   "execution_count": 34,
   "id": "90a174fb-6c8d-4800-946e-bc726de63491",
   "metadata": {},
   "outputs": [
    {
     "name": "stdout",
     "output_type": "stream",
     "text": [
      "y_test range: 0.0 ~ 235.8265838623047\n"
     ]
    }
   ],
   "source": [
    "print(\"y_test range:\", y_test.min().item(), \"~\", y_test.max().item())"
   ]
  },
  {
   "cell_type": "code",
   "execution_count": 35,
   "id": "4241c826-2a98-41c7-9f31-58c403809af6",
   "metadata": {},
   "outputs": [
    {
     "name": "stdout",
     "output_type": "stream",
     "text": [
      "(221872, 7) (55468, 7) (69335, 7) (221872, 1) (55468, 1) (69335, 1) (221872, 1) (55468, 1) (69335, 1)\n"
     ]
    }
   ],
   "source": [
    "x_test = x_test.drop(['expiry'], axis=1)\n",
    "print(x_train.shape, x_val.shape, x_test.shape, y_train.shape, y_val.shape, y_test.shape , as_train.shape, as_val.shape, as_test.shape)"
   ]
  },
  {
   "cell_type": "code",
   "execution_count": 36,
   "id": "3a615acf-6cd4-49e6-bf48-752d9f193f17",
   "metadata": {},
   "outputs": [
    {
     "name": "stdout",
     "output_type": "stream",
     "text": [
      "torch.Size([221872, 7]) torch.Size([55468, 7]) torch.Size([69335, 7]) torch.Size([221872, 1]) torch.Size([55468, 1]) torch.Size([69335, 1]) torch.Size([221872, 1]) torch.Size([55468, 1]) torch.Size([69335, 1])\n"
     ]
    }
   ],
   "source": [
    "x_train = torch.from_numpy(x_train.values).float()\n",
    "x_val = torch.from_numpy(x_val.values).float()\n",
    "x_test = torch.from_numpy(x_test.values).float()\n",
    "y_train = torch.from_numpy(y_train.values).float()\n",
    "y_val = torch.from_numpy(y_val.values).float()\n",
    "y_test = torch.from_numpy(y_test.values).float()\n",
    "as_train = torch.from_numpy(as_train.values).float()\n",
    "as_val = torch.from_numpy(as_val.values).float()\n",
    "as_test = torch.from_numpy(as_test.values).float()\n",
    "\n",
    "dataset_train = torch.utils.data.TensorDataset(x_train, y_train, as_train)\n",
    "dataset_val = torch.utils.data.TensorDataset(x_val, y_val, as_val)\n",
    "dataset_test = torch.utils.data.TensorDataset(x_test, y_test, as_test)\n",
    "\n",
    "dataloader_train = torch.utils.data.DataLoader(dataset_train, batch_size=500, shuffle=True, num_workers=8, drop_last=True)\n",
    "dataloader_val = torch.utils.data.DataLoader(dataset_val, batch_size=500, shuffle=True, num_workers=8, drop_last=True)\n",
    "dataloader_test = torch.utils.data.DataLoader(dataset_test, batch_size=500, shuffle=False, num_workers=8, drop_last=True)\n",
    "print(x_train.shape, x_val.shape, x_test.shape, y_train.shape, y_val.shape, y_test.shape , as_train.shape, as_val.shape, as_test.shape)"
   ]
  },
  {
   "cell_type": "code",
   "execution_count": 37,
   "id": "29e89ac4-840a-4f18-babe-3c4fbc9adb9a",
   "metadata": {},
   "outputs": [],
   "source": [
    "# Placeholder lists for all models and MSE values\n",
    "basic_models = []\n",
    "ano_models = []\n",
    "mse_values_k0_list = []\n",
    "mse_values_k7_list = []"
   ]
  },
  {
   "cell_type": "code",
   "execution_count": 38,
   "id": "c94e52ba-c283-4193-a033-6c0f8d071ce7",
   "metadata": {},
   "outputs": [],
   "source": [
    "test_dataloader_options = {\n",
    "    'option_type': [itm_dataloader, otm_dataloader, atm_dataloader],\n",
    "    'freq': [vhf_dataloader, hf_dataloader, lf_dataloader, vlf_dataloader],\n",
    "    'maturity': [b_dataloader, o_dataloader, q_dataloader, h_dataloader, y_dataloader]\n",
    "}"
   ]
  },
  {
   "cell_type": "code",
   "execution_count": 39,
   "id": "c8f3dac7-474e-4e68-bebb-18f951033a5c",
   "metadata": {},
   "outputs": [
    {
     "name": "stderr",
     "output_type": "stream",
     "text": [
      "100%|██████████| 200/200 [18:23<00:00,  5.52s/it]\n",
      " 88%|████████▊ | 177/200 [17:46<02:18,  6.02s/it]"
     ]
    },
    {
     "name": "stdout",
     "output_type": "stream",
     "text": [
      "Early stopping at epoch 177 for basic model (k=0.0)\n"
     ]
    },
    {
     "name": "stderr",
     "output_type": "stream",
     "text": [
      "\n"
     ]
    },
    {
     "name": "stdout",
     "output_type": "stream",
     "text": [
      "\n",
      "[DEBUG] 첫 배치 예측값: [3.9581656e-02 1.2949693e+02 1.0575948e+02 7.7006221e-02 3.7585938e+01\n",
      " 2.4565735e+00 2.9194260e+01 4.2254782e+00 7.3176265e-02 6.4956269e+00]\n",
      "[DEBUG] 첫 배치 실제값: [  0.25     125.11711   97.66333    0.63      36.896866   2.63\n",
      "  33.642292   4.7        0.2        6.15    ]\n",
      "\n",
      "[DEBUG] 첫 배치 예측값: [  0.7736112 126.77206   101.92305     1.425981   37.81764     2.5083394\n",
      "  29.654251    4.2027683   0.6313677   6.2394023]\n",
      "[DEBUG] 첫 배치 실제값: [  0.25     125.11711   97.66333    0.63      36.896866   2.63\n",
      "  33.642292   4.7        0.2        6.15    ]\n",
      "MSE values for basic model 1 (option_type): [5.744556863828375, 15.826485848203435, 0.3596172937115854, 2.144484313310323]\n",
      "MSE values for ano model 1 (option_type): [5.269825240152432, 14.331441368287653, 0.39262235861631434, 2.132046599017568]\n",
      "\n",
      "[DEBUG] 첫 배치 예측값: [3.9581656e-02 1.2949693e+02 1.0575948e+02 7.7006221e-02 3.7585938e+01\n",
      " 2.4565735e+00 2.9194260e+01 4.2254782e+00 7.3176265e-02 6.4956269e+00]\n",
      "[DEBUG] 첫 배치 실제값: [  0.25     125.11711   97.66333    0.63      36.896866   2.63\n",
      "  33.642292   4.7        0.2        6.15    ]\n",
      "\n",
      "[DEBUG] 첫 배치 예측값: [  0.7736112 126.77206   101.92305     1.425981   37.81764     2.5083394\n",
      "  29.654251    4.2027683   0.6313677   6.2394023]\n",
      "[DEBUG] 첫 배치 실제값: [  0.25     125.11711   97.66333    0.63      36.896866   2.63\n",
      "  33.642292   4.7        0.2        6.15    ]\n",
      "MSE values for basic model 1 (freq): [5.744556863828375, 2.516859637164036, 3.9826716015973234, 5.430766307892459, 9.019291856274187]\n",
      "MSE values for ano model 1 (freq): [5.269825240152432, 2.4747361410189774, 3.789222487874764, 5.105381208970863, 8.00109408928343]\n",
      "\n",
      "[DEBUG] 첫 배치 예측값: [3.9581656e-02 1.2949693e+02 1.0575948e+02 7.7006221e-02 3.7585938e+01\n",
      " 2.4565735e+00 2.9194260e+01 4.2254782e+00 7.3176265e-02 6.4956269e+00]\n",
      "[DEBUG] 첫 배치 실제값: [  0.25     125.11711   97.66333    0.63      36.896866   2.63\n",
      "  33.642292   4.7        0.2        6.15    ]\n",
      "\n",
      "[DEBUG] 첫 배치 예측값: [  0.7736112 126.77206   101.92305     1.425981   37.81764     2.5083394\n",
      "  29.654251    4.2027683   0.6313677   6.2394023]\n",
      "[DEBUG] 첫 배치 실제값: [  0.25     125.11711   97.66333    0.63      36.896866   2.63\n",
      "  33.642292   4.7        0.2        6.15    ]\n",
      "MSE values for basic model 1 (maturity): [5.744556863828375, 4.09841937299562, 3.581123648391044, 4.327884197041969, 6.521158421021543, 14.378991676049939]\n",
      "MSE values for ano model 1 (maturity): [5.269825240152432, 4.695427682931932, 3.5132699157072405, 3.965291360946855, 5.945085188796567, 12.74554441821346]\n"
     ]
    }
   ],
   "source": [
    "# Train the basic model with k=0.0\n",
    "model = NN(x_train.shape[1]).to(rank)\n",
    "basic_model, loss_list_k0 = train_model(model, 200, dataloader_train, dataloader_val, 0.0, rank)\n",
    "basic_models.append(basic_model)\n",
    "\n",
    "\n",
    "# Train the ano model with k=0.7\n",
    "model = NN(x_train.shape[1]).to(rank)\n",
    "ano_model, loss_list_k7 = train_model(model, 200, dataloader_train, dataloader_val, 0.7, rank)\n",
    "ano_models.append(ano_model)\n",
    "\n",
    "# Evaluate the models on each test dataloader option and store the MSE values\n",
    "for key, test_dataloaders in test_dataloader_options.items():\n",
    "    mse_values_k0 = evaluate_model(basic_model, dataloader_test, test_dataloaders, rank)\n",
    "    mse_values_k7 = evaluate_model(ano_model, dataloader_test, test_dataloaders, rank)\n",
    "\n",
    "    mse_values_k0_list.append((key, mse_values_k0))\n",
    "    mse_values_k7_list.append((key, mse_values_k7))\n",
    "    print(f\"MSE values for basic model {1} ({key}):\", mse_values_k0)\n",
    "    print(f\"MSE values for ano model {1} ({key}):\", mse_values_k7)"
   ]
  },
  {
   "cell_type": "code",
   "execution_count": 40,
   "id": "4700e64b-86c7-4c29-9c7a-efffabb9e6a4",
   "metadata": {},
   "outputs": [
    {
     "name": "stderr",
     "output_type": "stream",
     "text": [
      "100%|██████████| 200/200 [18:09<00:00,  5.45s/it]\n",
      " 86%|████████▌ | 171/200 [15:38<02:39,  5.49s/it]"
     ]
    },
    {
     "name": "stdout",
     "output_type": "stream",
     "text": [
      "Early stopping at epoch 171 for basic model (k=0.0)\n"
     ]
    },
    {
     "name": "stderr",
     "output_type": "stream",
     "text": [
      "\n"
     ]
    },
    {
     "name": "stdout",
     "output_type": "stream",
     "text": [
      "\n",
      "[DEBUG] 첫 배치 예측값: [  0.14841753 127.041595   101.51674      0.6053731   36.84913\n",
      "   2.4586275   29.477446     3.9767687    0.21625021   6.1032443 ]\n",
      "[DEBUG] 첫 배치 실제값: [  0.25     125.11711   97.66333    0.63      36.896866   2.63\n",
      "  33.642292   4.7        0.2        6.15    ]\n",
      "\n",
      "[DEBUG] 첫 배치 예측값: [  0.3473837  125.22688    100.336        0.6125165   36.21954\n",
      "   2.4182363   29.412067     4.4161425    0.20317057   6.442015  ]\n",
      "[DEBUG] 첫 배치 실제값: [  0.25     125.11711   97.66333    0.63      36.896866   2.63\n",
      "  33.642292   4.7        0.2        6.15    ]\n",
      "MSE values for basic model 2 (option_type): [4.975586076605305, 13.530760860322795, 0.31650811841504445, 2.13177808911244]\n",
      "MSE values for ano model 2 (option_type): [5.735198652289638, 15.797046164339951, 0.32200299620724915, 2.2474372535507707]\n",
      "\n",
      "[DEBUG] 첫 배치 예측값: [  0.14841753 127.041595   101.51674      0.6053731   36.84913\n",
      "   2.4586275   29.477446     3.9767687    0.21625021   6.1032443 ]\n",
      "[DEBUG] 첫 배치 실제값: [  0.25     125.11711   97.66333    0.63      36.896866   2.63\n",
      "  33.642292   4.7        0.2        6.15    ]\n",
      "\n",
      "[DEBUG] 첫 배치 예측값: [  0.3473837  125.22688    100.336        0.6125165   36.21954\n",
      "   2.4182363   29.412067     4.4161425    0.20317057   6.442015  ]\n",
      "[DEBUG] 첫 배치 실제값: [  0.25     125.11711   97.66333    0.63      36.896866   2.63\n",
      "  33.642292   4.7        0.2        6.15    ]\n",
      "MSE values for basic model 2 (freq): [4.975586076605305, 2.36216560613703, 3.6503049155502465, 4.867226973201549, 7.453422073211036]\n",
      "MSE values for ano model 2 (freq): [5.735198652289638, 2.6247875387258173, 4.12793003920746, 5.421689275541441, 8.851863618679557]\n",
      "\n",
      "[DEBUG] 첫 배치 예측값: [  0.14841753 127.041595   101.51674      0.6053731   36.84913\n",
      "   2.4586275   29.477446     3.9767687    0.21625021   6.1032443 ]\n",
      "[DEBUG] 첫 배치 실제값: [  0.25     125.11711   97.66333    0.63      36.896866   2.63\n",
      "  33.642292   4.7        0.2        6.15    ]\n",
      "\n",
      "[DEBUG] 첫 배치 예측값: [  0.3473837  125.22688    100.336        0.6125165   36.21954\n",
      "   2.4182363   29.412067     4.4161425    0.20317057   6.442015  ]\n",
      "[DEBUG] 첫 배치 실제값: [  0.25     125.11711   97.66333    0.63      36.896866   2.63\n",
      "  33.642292   4.7        0.2        6.15    ]\n",
      "MSE values for basic model 2 (maturity): [4.975586076605305, 4.248471168801966, 3.361354213030687, 3.8768633130866283, 5.436340176626235, 11.7275418595033]\n",
      "MSE values for ano model 2 (maturity): [5.735198652289638, 4.865535668169184, 3.663544118004728, 4.448041905622514, 6.338351465359175, 13.784743465410097]\n"
     ]
    }
   ],
   "source": [
    "# Train the basic model with k=0.0\n",
    "model = NN(x_train.shape[1]).to(rank)\n",
    "basic_model, loss_list_k0 = train_model(model, 200, dataloader_train, dataloader_val, 0.0, rank)\n",
    "basic_models.append(basic_model)\n",
    "\n",
    "\n",
    "# Train the ano model with k=0.7\n",
    "model = NN(x_train.shape[1]).to(rank)\n",
    "ano_model, loss_list_k7 = train_model(model, 200, dataloader_train, dataloader_val, 0.7, rank)\n",
    "ano_models.append(ano_model)\n",
    "\n",
    "# Evaluate the models on each test dataloader option and store the MSE values\n",
    "for key, test_dataloaders in test_dataloader_options.items():\n",
    "    mse_values_k0 = evaluate_model(basic_model, dataloader_test, test_dataloaders, rank)\n",
    "    mse_values_k7 = evaluate_model(ano_model, dataloader_test, test_dataloaders, rank)\n",
    "\n",
    "    mse_values_k0_list.append((key, mse_values_k0))\n",
    "    mse_values_k7_list.append((key, mse_values_k7))\n",
    "    print(f\"MSE values for basic model {2} ({key}):\", mse_values_k0)\n",
    "    print(f\"MSE values for ano model {2} ({key}):\", mse_values_k7)"
   ]
  },
  {
   "cell_type": "code",
   "execution_count": 41,
   "id": "45274dab-2e86-40a3-9e11-c54ead3eed09",
   "metadata": {},
   "outputs": [
    {
     "name": "stderr",
     "output_type": "stream",
     "text": [
      "100%|██████████| 200/200 [18:09<00:00,  5.45s/it]\n",
      " 98%|█████████▊| 196/200 [18:26<00:22,  5.65s/it]"
     ]
    },
    {
     "name": "stdout",
     "output_type": "stream",
     "text": [
      "Early stopping at epoch 196 for basic model (k=0.0)\n"
     ]
    },
    {
     "name": "stderr",
     "output_type": "stream",
     "text": [
      "\n"
     ]
    },
    {
     "name": "stdout",
     "output_type": "stream",
     "text": [
      "\n",
      "[DEBUG] 첫 배치 예측값: [  0.23637113 125.90534    103.613045     1.0867343   38.199047\n",
      "   2.929444    31.806938     4.217372     0.31234762   6.723856  ]\n",
      "[DEBUG] 첫 배치 실제값: [  0.25     125.11711   97.66333    0.63      36.896866   2.63\n",
      "  33.642292   4.7        0.2        6.15    ]\n",
      "\n",
      "[DEBUG] 첫 배치 예측값: [  0.4595893  125.02148    102.38023      1.3719962   37.71033\n",
      "   2.515442    30.582968     4.629854     0.42917198   6.0632806 ]\n",
      "[DEBUG] 첫 배치 실제값: [  0.25     125.11711   97.66333    0.63      36.896866   2.63\n",
      "  33.642292   4.7        0.2        6.15    ]\n",
      "MSE values for basic model 3 (option_type): [5.305489763446581, 14.441053761222427, 0.33138213167316216, 2.2651759034171683]\n",
      "MSE values for ano model 3 (option_type): [5.522330650227845, 15.164569552528736, 0.3419836813537424, 2.1506500158768653]\n",
      "\n",
      "[DEBUG] 첫 배치 예측값: [  0.23637113 125.90534    103.613045     1.0867343   38.199047\n",
      "   2.929444    31.806938     4.217372     0.31234762   6.723856  ]\n",
      "[DEBUG] 첫 배치 실제값: [  0.25     125.11711   97.66333    0.63      36.896866   2.63\n",
      "  33.642292   4.7        0.2        6.15    ]\n",
      "\n",
      "[DEBUG] 첫 배치 예측값: [  0.4595893  125.02148    102.38023      1.3719962   37.71033\n",
      "   2.515442    30.582968     4.629854     0.42917198   6.0632806 ]\n",
      "[DEBUG] 첫 배치 실제값: [  0.25     125.11711   97.66333    0.63      36.896866   2.63\n",
      "  33.642292   4.7        0.2        6.15    ]\n",
      "MSE values for basic model 3 (freq): [5.305489763446581, 2.6351881712112077, 3.867761189982975, 5.0028356040077435, 8.035855867066726]\n",
      "MSE values for ano model 3 (freq): [5.522330650227845, 2.528465598679435, 3.967995444765624, 5.37949576603382, 8.395599651387085]\n",
      "\n",
      "[DEBUG] 첫 배치 예측값: [  0.23637113 125.90534    103.613045     1.0867343   38.199047\n",
      "   2.929444    31.806938     4.217372     0.31234762   6.723856  ]\n",
      "[DEBUG] 첫 배치 실제값: [  0.25     125.11711   97.66333    0.63      36.896866   2.63\n",
      "  33.642292   4.7        0.2        6.15    ]\n",
      "\n",
      "[DEBUG] 첫 배치 예측값: [  0.4595893  125.02148    102.38023      1.3719962   37.71033\n",
      "   2.515442    30.582968     4.629854     0.42917198   6.0632806 ]\n",
      "[DEBUG] 첫 배치 실제값: [  0.25     125.11711   97.66333    0.63      36.896866   2.63\n",
      "  33.642292   4.7        0.2        6.15    ]\n",
      "MSE values for basic model 3 (maturity): [5.305489763446581, 4.66961955190815, 3.4776077068792697, 3.909890022473615, 5.925711556405556, 13.439254829622644]\n",
      "MSE values for ano model 3 (maturity): [5.522330650227845, 4.493054761363914, 3.4129186841408594, 4.090613772231327, 6.295522672426514, 14.000959763130728]\n"
     ]
    }
   ],
   "source": [
    "# Train the basic model with k=0.0\n",
    "model = NN(x_train.shape[1]).to(rank)\n",
    "basic_model, loss_list_k0 = train_model(model, 200, dataloader_train, dataloader_val, 0.0, rank)\n",
    "basic_models.append(basic_model)\n",
    "\n",
    "\n",
    "# Train the ano model with k=0.7\n",
    "model = NN(x_train.shape[1]).to(rank)\n",
    "ano_model, loss_list_k7 = train_model(model, 200, dataloader_train, dataloader_val, 0.7, rank)\n",
    "ano_models.append(ano_model)\n",
    "\n",
    "# Evaluate the models on each test dataloader option and store the MSE values\n",
    "for key, test_dataloaders in test_dataloader_options.items():\n",
    "    mse_values_k0 = evaluate_model(basic_model, dataloader_test, test_dataloaders, rank)\n",
    "    mse_values_k7 = evaluate_model(ano_model, dataloader_test, test_dataloaders, rank)\n",
    "\n",
    "    mse_values_k0_list.append((key, mse_values_k0))\n",
    "    mse_values_k7_list.append((key, mse_values_k7))\n",
    "    print(f\"MSE values for basic model {3} ({key}):\", mse_values_k0)\n",
    "    print(f\"MSE values for ano model {3} ({key}):\", mse_values_k7)"
   ]
  },
  {
   "cell_type": "code",
   "execution_count": 42,
   "id": "cf13dbc9-0208-46a0-a593-337859356e07",
   "metadata": {},
   "outputs": [
    {
     "name": "stderr",
     "output_type": "stream",
     "text": [
      " 95%|█████████▌| 190/200 [18:04<00:57,  5.71s/it]\n"
     ]
    },
    {
     "name": "stdout",
     "output_type": "stream",
     "text": [
      "Early stopping at epoch 190 for basic model (k=0.0)\n"
     ]
    },
    {
     "name": "stderr",
     "output_type": "stream",
     "text": [
      " 90%|█████████ | 180/200 [15:49<01:45,  5.28s/it]"
     ]
    },
    {
     "name": "stdout",
     "output_type": "stream",
     "text": [
      "Early stopping at epoch 180 for basic model (k=0.0)\n"
     ]
    },
    {
     "name": "stderr",
     "output_type": "stream",
     "text": [
      "\n"
     ]
    },
    {
     "name": "stdout",
     "output_type": "stream",
     "text": [
      "\n",
      "[DEBUG] 첫 배치 예측값: [  0.54187447 127.13605     98.54242      0.9086721   35.781483\n",
      "   2.6233869   26.651798     3.9572012    0.2117834    6.566131  ]\n",
      "[DEBUG] 첫 배치 실제값: [  0.25     125.11711   97.66333    0.63      36.896866   2.63\n",
      "  33.642292   4.7        0.2        6.15    ]\n",
      "\n",
      "[DEBUG] 첫 배치 예측값: [  0.19228995 127.455605   101.75707      0.58416474  38.178207\n",
      "   2.5030336   29.442867     4.1815033    0.12823164   6.205842  ]\n",
      "[DEBUG] 첫 배치 실제값: [  0.25     125.11711   97.66333    0.63      36.896866   2.63\n",
      "  33.642292   4.7        0.2        6.15    ]\n",
      "MSE values for basic model 4 (option_type): [6.3109386017729365, 17.4670124773716, 0.3405529825323542, 2.3741547902173634]\n",
      "MSE values for ano model 4 (option_type): [5.154699864056643, 14.08873065347812, 0.33599369233779114, 2.0759484122829623]\n",
      "\n",
      "[DEBUG] 첫 배치 예측값: [  0.54187447 127.13605     98.54242      0.9086721   35.781483\n",
      "   2.6233869   26.651798     3.9572012    0.2117834    6.566131  ]\n",
      "[DEBUG] 첫 배치 실제값: [  0.25     125.11711   97.66333    0.63      36.896866   2.63\n",
      "  33.642292   4.7        0.2        6.15    ]\n",
      "\n",
      "[DEBUG] 첫 배치 예측값: [  0.19228995 127.455605   101.75707      0.58416474  38.178207\n",
      "   2.5030336   29.442867     4.1815033    0.12823164   6.205842  ]\n",
      "[DEBUG] 첫 배치 실제값: [  0.25     125.11711   97.66333    0.63      36.896866   2.63\n",
      "  33.642292   4.7        0.2        6.15    ]\n",
      "MSE values for basic model 4 (freq): [6.3109386017729365, 3.01664954050465, 4.381555315284428, 6.065956386185415, 9.68542196042678]\n",
      "MSE values for ano model 4 (freq): [5.154699864056643, 2.329372327274579, 3.71637295821893, 5.112567190379172, 7.778583688910956]\n",
      "\n",
      "[DEBUG] 첫 배치 예측값: [  0.54187447 127.13605     98.54242      0.9086721   35.781483\n",
      "   2.6233869   26.651798     3.9572012    0.2117834    6.566131  ]\n",
      "[DEBUG] 첫 배치 실제값: [  0.25     125.11711   97.66333    0.63      36.896866   2.63\n",
      "  33.642292   4.7        0.2        6.15    ]\n",
      "\n",
      "[DEBUG] 첫 배치 예측값: [  0.19228995 127.455605   101.75707      0.58416474  38.178207\n",
      "   2.5030336   29.442867     4.1815033    0.12823164   6.205842  ]\n",
      "[DEBUG] 첫 배치 실제값: [  0.25     125.11711   97.66333    0.63      36.896866   2.63\n",
      "  33.642292   4.7        0.2        6.15    ]\n",
      "MSE values for basic model 4 (maturity): [6.3109386017729365, 4.872266207609748, 3.887342477118556, 4.957363779091732, 7.418121532485143, 14.279983933843035]\n",
      "MSE values for ano model 4 (maturity): [5.154699864056643, 4.450641642882961, 3.3184833844745567, 3.952518491967033, 5.765551804573435, 12.392997816530785]\n"
     ]
    }
   ],
   "source": [
    "# Train the basic model with k=0.0\n",
    "model = NN(x_train.shape[1]).to(rank)\n",
    "basic_model, loss_list_k0 = train_model(model, 200, dataloader_train, dataloader_val, 0.0, rank)\n",
    "basic_models.append(basic_model)\n",
    "\n",
    "\n",
    "# Train the ano model with k=0.7\n",
    "model = NN(x_train.shape[1]).to(rank)\n",
    "ano_model, loss_list_k7 = train_model(model, 200, dataloader_train, dataloader_val, 0.7, rank)\n",
    "ano_models.append(ano_model)\n",
    "\n",
    "# Evaluate the models on each test dataloader option and store the MSE values\n",
    "for key, test_dataloaders in test_dataloader_options.items():\n",
    "    mse_values_k0 = evaluate_model(basic_model, dataloader_test, test_dataloaders, rank)\n",
    "    mse_values_k7 = evaluate_model(ano_model, dataloader_test, test_dataloaders, rank)\n",
    "\n",
    "    mse_values_k0_list.append((key, mse_values_k0))\n",
    "    mse_values_k7_list.append((key, mse_values_k7))\n",
    "    print(f\"MSE values for basic model {4} ({key}):\", mse_values_k0)\n",
    "    print(f\"MSE values for ano model {4} ({key}):\", mse_values_k7)"
   ]
  },
  {
   "cell_type": "code",
   "execution_count": 43,
   "id": "e1622f17-a0ab-488e-bc0f-16a7501bcd56",
   "metadata": {},
   "outputs": [
    {
     "name": "stderr",
     "output_type": "stream",
     "text": [
      " 90%|████████▉ | 179/200 [15:41<01:50,  5.26s/it]\n"
     ]
    },
    {
     "name": "stdout",
     "output_type": "stream",
     "text": [
      "Early stopping at epoch 179 for basic model (k=0.0)\n"
     ]
    },
    {
     "name": "stderr",
     "output_type": "stream",
     "text": [
      " 96%|█████████▌| 191/200 [16:29<00:46,  5.18s/it]"
     ]
    },
    {
     "name": "stdout",
     "output_type": "stream",
     "text": [
      "Early stopping at epoch 191 for basic model (k=0.0)\n"
     ]
    },
    {
     "name": "stderr",
     "output_type": "stream",
     "text": [
      "\n"
     ]
    },
    {
     "name": "stdout",
     "output_type": "stream",
     "text": [
      "\n",
      "[DEBUG] 첫 배치 예측값: [  0.46605662 126.61548    104.72948      0.7230353   36.6202\n",
      "   2.9337382   28.93395      4.1990185    0.23983133   6.2289176 ]\n",
      "[DEBUG] 첫 배치 실제값: [  0.25     125.11711   97.66333    0.63      36.896866   2.63\n",
      "  33.642292   4.7        0.2        6.15    ]\n",
      "\n",
      "[DEBUG] 첫 배치 예측값: [ 1.2435335e-01  1.2800470e+02  1.0170395e+02  2.4306864e-01\n",
      "  3.6897526e+01  2.2990508e+00  2.9903425e+01  3.8914962e+00\n",
      " -8.0861628e-02  6.2771702e+00]\n",
      "[DEBUG] 첫 배치 실제값: [  0.25     125.11711   97.66333    0.63      36.896866   2.63\n",
      "  33.642292   4.7        0.2        6.15    ]\n",
      "MSE values for basic model 5 (option_type): [5.444863014422097, 14.957708470035858, 0.3242550168396118, 2.141607303148186]\n",
      "MSE values for ano model 5 (option_type): [5.256710136040219, 14.438468175212135, 0.3380496154408076, 2.0164914559728535]\n",
      "\n",
      "[DEBUG] 첫 배치 예측값: [  0.46605662 126.61548    104.72948      0.7230353   36.6202\n",
      "   2.9337382   28.93395      4.1990185    0.23983133   6.2289176 ]\n",
      "[DEBUG] 첫 배치 실제값: [  0.25     125.11711   97.66333    0.63      36.896866   2.63\n",
      "  33.642292   4.7        0.2        6.15    ]\n",
      "\n",
      "[DEBUG] 첫 배치 예측값: [ 1.2435335e-01  1.2800470e+02  1.0170395e+02  2.4306864e-01\n",
      "  3.6897526e+01  2.2990508e+00  2.9903425e+01  3.8914962e+00\n",
      " -8.0861628e-02  6.2771702e+00]\n",
      "[DEBUG] 첫 배치 실제값: [  0.25     125.11711   97.66333    0.63      36.896866   2.63\n",
      "  33.642292   4.7        0.2        6.15    ]\n",
      "MSE values for basic model 5 (freq): [5.444863014422097, 2.456239201009706, 3.8330670404767546, 5.393789888772038, 8.280360951809554]\n",
      "MSE values for ano model 5 (freq): [5.256710136040219, 2.3758101372509497, 3.9214435759277775, 5.172868549565883, 7.882860235435535]\n",
      "\n",
      "[DEBUG] 첫 배치 예측값: [  0.46605662 126.61548    104.72948      0.7230353   36.6202\n",
      "   2.9337382   28.93395      4.1990185    0.23983133   6.2289176 ]\n",
      "[DEBUG] 첫 배치 실제값: [  0.25     125.11711   97.66333    0.63      36.896866   2.63\n",
      "  33.642292   4.7        0.2        6.15    ]\n",
      "\n",
      "[DEBUG] 첫 배치 예측값: [ 1.2435335e-01  1.2800470e+02  1.0170395e+02  2.4306864e-01\n",
      "  3.6897526e+01  2.2990508e+00  2.9903425e+01  3.8914962e+00\n",
      " -8.0861628e-02  6.2771702e+00]\n",
      "[DEBUG] 첫 배치 실제값: [  0.25     125.11711   97.66333    0.63      36.896866   2.63\n",
      "  33.642292   4.7        0.2        6.15    ]\n",
      "MSE values for basic model 5 (maturity): [5.444863014422097, 4.221049010070591, 3.458477972534012, 4.157844643384585, 6.156074908631747, 13.232033434723734]\n",
      "MSE values for ano model 5 (maturity): [5.256710136040219, 3.889855686762766, 3.2953140538749066, 4.008938921540432, 6.169002811243541, 12.449956352204847]\n"
     ]
    }
   ],
   "source": [
    "# Train the basic model with k=0.0\n",
    "model = NN(x_train.shape[1]).to(rank)\n",
    "basic_model, loss_list_k0 = train_model(model, 200, dataloader_train, dataloader_val, 0.0, rank)\n",
    "basic_models.append(basic_model)\n",
    "\n",
    "\n",
    "# Train the ano model with k=0.7\n",
    "model = NN(x_train.shape[1]).to(rank)\n",
    "ano_model, loss_list_k7 = train_model(model, 200, dataloader_train, dataloader_val, 0.7, rank)\n",
    "ano_models.append(ano_model)\n",
    "\n",
    "# Evaluate the models on each test dataloader option and store the MSE values\n",
    "for key, test_dataloaders in test_dataloader_options.items():\n",
    "    mse_values_k0 = evaluate_model(basic_model, dataloader_test, test_dataloaders, rank)\n",
    "    mse_values_k7 = evaluate_model(ano_model, dataloader_test, test_dataloaders, rank)\n",
    "\n",
    "    mse_values_k0_list.append((key, mse_values_k0))\n",
    "    mse_values_k7_list.append((key, mse_values_k7))\n",
    "    print(f\"MSE values for basic model {5} ({key}):\", mse_values_k0)\n",
    "    print(f\"MSE values for ano model {5} ({key}):\", mse_values_k7)"
   ]
  },
  {
   "cell_type": "code",
   "execution_count": null,
   "id": "1fccdea2-492d-45c5-83a4-aeea4e486601",
   "metadata": {},
   "outputs": [],
   "source": []
  },
  {
   "cell_type": "code",
   "execution_count": null,
   "id": "85748478-da74-43b9-852e-9d9f0272c8e1",
   "metadata": {},
   "outputs": [],
   "source": []
  },
  {
   "cell_type": "code",
   "execution_count": 44,
   "id": "7e94f21a-773b-49da-8ed9-5df059e69228",
   "metadata": {},
   "outputs": [
    {
     "ename": "TypeError",
     "evalue": "object of type 'numpy.float64' has no len()",
     "output_type": "error",
     "traceback": [
      "\u001b[0;31m---------------------------------------------------------------------------\u001b[0m",
      "\u001b[0;31mTypeError\u001b[0m                                 Traceback (most recent call last)",
      "Cell \u001b[0;32mIn[44], line 17\u001b[0m\n\u001b[1;32m     15\u001b[0m mse_k7 \u001b[38;5;241m=\u001b[39m mse_values_k7_dict\u001b[38;5;241m.\u001b[39mget(key, \u001b[38;5;28;01mNone\u001b[39;00m)\n\u001b[1;32m     16\u001b[0m \u001b[38;5;28;01mif\u001b[39;00m mse_k0 \u001b[38;5;129;01mand\u001b[39;00m mse_k7:\n\u001b[0;32m---> 17\u001b[0m     \u001b[43mplot_mse_comparison\u001b[49m\u001b[43m(\u001b[49m\u001b[43mmse_k0\u001b[49m\u001b[43m[\u001b[49m\u001b[43mi\u001b[49m\u001b[43m]\u001b[49m\u001b[43m,\u001b[49m\u001b[43m \u001b[49m\u001b[43mmse_k7\u001b[49m\u001b[43m[\u001b[49m\u001b[43mi\u001b[49m\u001b[43m]\u001b[49m\u001b[43m,\u001b[49m\u001b[43m \u001b[49m\u001b[43mlabels\u001b[49m\u001b[43m)\u001b[49m\n",
      "File \u001b[0;32m~/anomal/anomaly_score/ano_nn_analysis.py:240\u001b[0m, in \u001b[0;36mplot_mse_comparison\u001b[0;34m(mse_values_k0, mse_values_k7, labels)\u001b[0m\n\u001b[1;32m    234\u001b[0m     ax1\u001b[38;5;241m.\u001b[39mannotate(\u001b[38;5;124m'\u001b[39m\u001b[38;5;132;01m{}\u001b[39;00m\u001b[38;5;124m'\u001b[39m\u001b[38;5;241m.\u001b[39mformat(\u001b[38;5;28mround\u001b[39m(height, \u001b[38;5;241m4\u001b[39m)),\n\u001b[1;32m    235\u001b[0m                  xy\u001b[38;5;241m=\u001b[39m(rect\u001b[38;5;241m.\u001b[39mget_x() \u001b[38;5;241m+\u001b[39m rect\u001b[38;5;241m.\u001b[39mget_width() \u001b[38;5;241m/\u001b[39m \u001b[38;5;241m2\u001b[39m, height),\n\u001b[1;32m    236\u001b[0m                  xytext\u001b[38;5;241m=\u001b[39m(\u001b[38;5;241m0\u001b[39m, \u001b[38;5;241m3\u001b[39m), \n\u001b[1;32m    237\u001b[0m                  textcoords\u001b[38;5;241m=\u001b[39m\u001b[38;5;124m\"\u001b[39m\u001b[38;5;124moffset points\u001b[39m\u001b[38;5;124m\"\u001b[39m,\n\u001b[1;32m    238\u001b[0m                  ha\u001b[38;5;241m=\u001b[39m\u001b[38;5;124m'\u001b[39m\u001b[38;5;124mcenter\u001b[39m\u001b[38;5;124m'\u001b[39m, va\u001b[38;5;241m=\u001b[39m\u001b[38;5;124m'\u001b[39m\u001b[38;5;124mbottom\u001b[39m\u001b[38;5;124m'\u001b[39m, fontsize\u001b[38;5;241m=\u001b[39m\u001b[38;5;241m12\u001b[39m)\n\u001b[1;32m    239\u001b[0m \u001b[38;5;28;01mfor\u001b[39;00m i, (k0, k7) \u001b[38;5;129;01min\u001b[39;00m \u001b[38;5;28menumerate\u001b[39m(\u001b[38;5;28mzip\u001b[39m(mse_values_k0, mse_values_k7)):\n\u001b[0;32m--> 240\u001b[0m     \u001b[38;5;28;01mif\u001b[39;00m k0 \u001b[38;5;241m!=\u001b[39m \u001b[38;5;241m0\u001b[39m:\n\u001b[1;32m    241\u001b[0m         relative_error \u001b[38;5;241m=\u001b[39m \u001b[38;5;28mabs\u001b[39m((k7 \u001b[38;5;241m-\u001b[39m k0) \u001b[38;5;241m/\u001b[39m k0)\n\u001b[1;32m    242\u001b[0m         ax1\u001b[38;5;241m.\u001b[39mannotate(\u001b[38;5;124m'\u001b[39m\u001b[38;5;124mRel. Error: \u001b[39m\u001b[38;5;132;01m{:.2%}\u001b[39;00m\u001b[38;5;124m'\u001b[39m\u001b[38;5;241m.\u001b[39mformat(relative_error),\n\u001b[1;32m    243\u001b[0m                      xy\u001b[38;5;241m=\u001b[39m(x[i], \u001b[38;5;28mmax\u001b[39m(mse_values_k0[i], mse_values_k7[i])),\n\u001b[1;32m    244\u001b[0m                      xytext\u001b[38;5;241m=\u001b[39m(\u001b[38;5;241m0\u001b[39m, \u001b[38;5;241m10\u001b[39m), \n\u001b[1;32m    245\u001b[0m                      textcoords\u001b[38;5;241m=\u001b[39m\u001b[38;5;124m\"\u001b[39m\u001b[38;5;124moffset points\u001b[39m\u001b[38;5;124m\"\u001b[39m,\n\u001b[1;32m    246\u001b[0m                      ha\u001b[38;5;241m=\u001b[39m\u001b[38;5;124m'\u001b[39m\u001b[38;5;124mcenter\u001b[39m\u001b[38;5;124m'\u001b[39m, va\u001b[38;5;241m=\u001b[39m\u001b[38;5;124m'\u001b[39m\u001b[38;5;124mbottom\u001b[39m\u001b[38;5;124m'\u001b[39m, fontsize\u001b[38;5;241m=\u001b[39m\u001b[38;5;241m12\u001b[39m, color\u001b[38;5;241m=\u001b[39m\u001b[38;5;124m'\u001b[39m\u001b[38;5;124mpurple\u001b[39m\u001b[38;5;124m'\u001b[39m)\n",
      "\u001b[0;31mTypeError\u001b[0m: object of type 'numpy.float64' has no len()"
     ]
    }
   ],
   "source": [
    "# 추가된 MSE 값을 별도의 딕셔너리에 저장\n",
    "mse_values_k0_dict = {key: mse for key, mse in mse_values_k0_list}\n",
    "mse_values_k7_dict = {key: mse for key, mse in mse_values_k7_list}\n",
    "\n",
    "# 각 세션에 대해 MSE 비교를 위한 플롯 생성\n",
    "labels_options = {\n",
    "    'option_type': ['Total', 'ITM', 'OTM', 'ATM'],\n",
    "    'freq': ['Total', 'Very High', 'High', 'Low', 'Very Low'],\n",
    "    'maturity': ['Total', 'Biweek', 'OneMonth', 'Quarter', 'Half', 'Year']\n",
    "}\n",
    "\n",
    "for i in range(5):\n",
    "    for key, labels in labels_options.items():\n",
    "        mse_k0 = mse_values_k0_dict.get(key, None)\n",
    "        mse_k7 = mse_values_k7_dict.get(key, None)\n",
    "        if mse_k0 and mse_k7:\n",
    "            plot_mse_comparison(mse_k0[i], mse_k7[i], labels)\n"
   ]
  },
  {
   "cell_type": "code",
   "execution_count": null,
   "id": "3c7ac211-8700-43cc-8d89-c3224a0397ee",
   "metadata": {},
   "outputs": [],
   "source": [
    "mse_values_k0_1 = mse_values_k0_list[0:3]\n",
    "mse_values_k0_2 = mse_values_k0_list[3:6]\n",
    "mse_values_k0_3 = mse_values_k0_list[6:9]\n",
    "mse_values_k0_4 = mse_values_k0_list[9:12]\n",
    "mse_values_k0_5 = mse_values_k0_list[12:15]\n",
    "\n",
    "mse_values_k7_1 = mse_values_k7_list[0:3]\n",
    "mse_values_k7_2 = mse_values_k7_list[3:6]\n",
    "mse_values_k7_3 = mse_values_k7_list[6:9]\n",
    "mse_values_k7_4 = mse_values_k7_list[9:12]\n",
    "mse_values_k7_5 = mse_values_k7_list[12:15]"
   ]
  },
  {
   "cell_type": "code",
   "execution_count": null,
   "id": "217c8099-d132-4556-b441-0f6818a36d66",
   "metadata": {},
   "outputs": [],
   "source": [
    "for i in range(5):\n",
    "    for key, labels in labels_options.items():\n",
    "        mse_k0 = mse_values_k0_list[3*i:3*(i+1)]\n",
    "        mse_k7 = mse_values_k7_list[3*i:3*(i+1)]\n",
    "        for j, (k0, k7) in enumerate(zip(mse_k0, mse_k7)):\n",
    "            if k0[0] == key:\n",
    "                plot_mse_comparison(k0[1], k7[1], labels)"
   ]
  },
  {
   "cell_type": "code",
   "execution_count": null,
   "id": "1ed0a86b-ca79-4227-a93d-63b1cf348373",
   "metadata": {},
   "outputs": [],
   "source": []
  },
  {
   "cell_type": "code",
   "execution_count": null,
   "id": "0122a322-559a-4cd0-b98a-4ea1a87f0e09",
   "metadata": {},
   "outputs": [],
   "source": []
  },
  {
   "cell_type": "code",
   "execution_count": null,
   "id": "54277596-18dc-4f0e-aa92-f521ef725782",
   "metadata": {},
   "outputs": [],
   "source": []
  }
 ],
 "metadata": {
  "kernelspec": {
   "display_name": "pycaret_env",
   "language": "python",
   "name": "pycaret_env"
  },
  "language_info": {
   "codemirror_mode": {
    "name": "ipython",
    "version": 3
   },
   "file_extension": ".py",
   "mimetype": "text/x-python",
   "name": "python",
   "nbconvert_exporter": "python",
   "pygments_lexer": "ipython3",
   "version": "3.10.10"
  }
 },
 "nbformat": 4,
 "nbformat_minor": 5
}
